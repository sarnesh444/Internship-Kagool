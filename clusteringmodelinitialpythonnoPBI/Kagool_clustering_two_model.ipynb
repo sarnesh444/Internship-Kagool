{
 "cells": [
  {
   "cell_type": "code",
   "execution_count": 1,
   "metadata": {},
   "outputs": [],
   "source": [
    "import pandas as pd\n",
    "import numpy as np\n",
    "import matplotlib.pyplot as plt\n",
    "import sklearn"
   ]
  },
  {
   "cell_type": "code",
   "execution_count": 2,
   "metadata": {},
   "outputs": [],
   "source": [
    "df_new=pd.read_excel(\"Encoded Global Superstore data 2018.xlsx\")"
   ]
  },
  {
   "cell_type": "code",
   "execution_count": 3,
   "metadata": {},
   "outputs": [
    {
     "data": {
      "text/html": [
       "<div>\n",
       "<style scoped>\n",
       "    .dataframe tbody tr th:only-of-type {\n",
       "        vertical-align: middle;\n",
       "    }\n",
       "\n",
       "    .dataframe tbody tr th {\n",
       "        vertical-align: top;\n",
       "    }\n",
       "\n",
       "    .dataframe thead th {\n",
       "        text-align: right;\n",
       "    }\n",
       "</style>\n",
       "<table border=\"1\" class=\"dataframe\">\n",
       "  <thead>\n",
       "    <tr style=\"text-align: right;\">\n",
       "      <th></th>\n",
       "      <th>Unnamed: 0</th>\n",
       "      <th>Sales</th>\n",
       "      <th>Quantity</th>\n",
       "      <th>Discount</th>\n",
       "      <th>Profit</th>\n",
       "      <th>Shipping Cost</th>\n",
       "      <th>Order ID fe</th>\n",
       "      <th>Order Date fe</th>\n",
       "      <th>Ship Date fe</th>\n",
       "      <th>Ship Mode fe</th>\n",
       "      <th>...</th>\n",
       "      <th>City fe</th>\n",
       "      <th>State fe</th>\n",
       "      <th>Country fe</th>\n",
       "      <th>Region fe</th>\n",
       "      <th>Market fe</th>\n",
       "      <th>Product ID fe</th>\n",
       "      <th>Product Name fe</th>\n",
       "      <th>Sub-Category fe</th>\n",
       "      <th>Category fe</th>\n",
       "      <th>Order Priority fe</th>\n",
       "    </tr>\n",
       "  </thead>\n",
       "  <tbody>\n",
       "    <tr>\n",
       "      <th>0</th>\n",
       "      <td>0</td>\n",
       "      <td>731.82</td>\n",
       "      <td>2</td>\n",
       "      <td>0.0</td>\n",
       "      <td>102.42</td>\n",
       "      <td>39.66</td>\n",
       "      <td>0.000058</td>\n",
       "      <td>0.000643</td>\n",
       "      <td>0.001579</td>\n",
       "      <td>0.600019</td>\n",
       "      <td>...</td>\n",
       "      <td>0.000097</td>\n",
       "      <td>0.000097</td>\n",
       "      <td>0.001072</td>\n",
       "      <td>0.051764</td>\n",
       "      <td>0.278846</td>\n",
       "      <td>0.000390</td>\n",
       "      <td>0.000390</td>\n",
       "      <td>0.047007</td>\n",
       "      <td>0.192240</td>\n",
       "      <td>0.573855</td>\n",
       "    </tr>\n",
       "    <tr>\n",
       "      <th>1</th>\n",
       "      <td>1</td>\n",
       "      <td>243.54</td>\n",
       "      <td>9</td>\n",
       "      <td>0.0</td>\n",
       "      <td>104.49</td>\n",
       "      <td>18.72</td>\n",
       "      <td>0.000039</td>\n",
       "      <td>0.000448</td>\n",
       "      <td>0.000546</td>\n",
       "      <td>0.200994</td>\n",
       "      <td>...</td>\n",
       "      <td>0.000097</td>\n",
       "      <td>0.000097</td>\n",
       "      <td>0.001072</td>\n",
       "      <td>0.051764</td>\n",
       "      <td>0.278846</td>\n",
       "      <td>0.000390</td>\n",
       "      <td>0.000390</td>\n",
       "      <td>0.046929</td>\n",
       "      <td>0.610041</td>\n",
       "      <td>0.573855</td>\n",
       "    </tr>\n",
       "    <tr>\n",
       "      <th>2</th>\n",
       "      <td>2</td>\n",
       "      <td>346.32</td>\n",
       "      <td>3</td>\n",
       "      <td>0.0</td>\n",
       "      <td>13.77</td>\n",
       "      <td>14.10</td>\n",
       "      <td>0.000058</td>\n",
       "      <td>0.000643</td>\n",
       "      <td>0.001579</td>\n",
       "      <td>0.600019</td>\n",
       "      <td>...</td>\n",
       "      <td>0.000097</td>\n",
       "      <td>0.000097</td>\n",
       "      <td>0.001072</td>\n",
       "      <td>0.051764</td>\n",
       "      <td>0.278846</td>\n",
       "      <td>0.000273</td>\n",
       "      <td>0.000273</td>\n",
       "      <td>0.028973</td>\n",
       "      <td>0.197719</td>\n",
       "      <td>0.573855</td>\n",
       "    </tr>\n",
       "    <tr>\n",
       "      <th>3</th>\n",
       "      <td>3</td>\n",
       "      <td>169.68</td>\n",
       "      <td>4</td>\n",
       "      <td>0.0</td>\n",
       "      <td>79.68</td>\n",
       "      <td>11.01</td>\n",
       "      <td>0.000058</td>\n",
       "      <td>0.000643</td>\n",
       "      <td>0.001579</td>\n",
       "      <td>0.600019</td>\n",
       "      <td>...</td>\n",
       "      <td>0.000097</td>\n",
       "      <td>0.000097</td>\n",
       "      <td>0.001072</td>\n",
       "      <td>0.051764</td>\n",
       "      <td>0.278846</td>\n",
       "      <td>0.000273</td>\n",
       "      <td>0.000273</td>\n",
       "      <td>0.061493</td>\n",
       "      <td>0.192240</td>\n",
       "      <td>0.573855</td>\n",
       "    </tr>\n",
       "    <tr>\n",
       "      <th>4</th>\n",
       "      <td>4</td>\n",
       "      <td>203.88</td>\n",
       "      <td>4</td>\n",
       "      <td>0.0</td>\n",
       "      <td>24.36</td>\n",
       "      <td>5.72</td>\n",
       "      <td>0.000039</td>\n",
       "      <td>0.000448</td>\n",
       "      <td>0.000546</td>\n",
       "      <td>0.200994</td>\n",
       "      <td>...</td>\n",
       "      <td>0.000097</td>\n",
       "      <td>0.000097</td>\n",
       "      <td>0.001072</td>\n",
       "      <td>0.051764</td>\n",
       "      <td>0.278846</td>\n",
       "      <td>0.000351</td>\n",
       "      <td>0.000351</td>\n",
       "      <td>0.046539</td>\n",
       "      <td>0.610041</td>\n",
       "      <td>0.573855</td>\n",
       "    </tr>\n",
       "  </tbody>\n",
       "</table>\n",
       "<p>5 rows × 23 columns</p>\n",
       "</div>"
      ],
      "text/plain": [
       "   Unnamed: 0   Sales  Quantity  Discount  Profit  Shipping Cost  Order ID fe  \\\n",
       "0           0  731.82         2       0.0  102.42          39.66     0.000058   \n",
       "1           1  243.54         9       0.0  104.49          18.72     0.000039   \n",
       "2           2  346.32         3       0.0   13.77          14.10     0.000058   \n",
       "3           3  169.68         4       0.0   79.68          11.01     0.000058   \n",
       "4           4  203.88         4       0.0   24.36           5.72     0.000039   \n",
       "\n",
       "   Order Date fe  Ship Date fe  Ship Mode fe  ...   City fe  State fe  \\\n",
       "0       0.000643      0.001579      0.600019  ...  0.000097  0.000097   \n",
       "1       0.000448      0.000546      0.200994  ...  0.000097  0.000097   \n",
       "2       0.000643      0.001579      0.600019  ...  0.000097  0.000097   \n",
       "3       0.000643      0.001579      0.600019  ...  0.000097  0.000097   \n",
       "4       0.000448      0.000546      0.200994  ...  0.000097  0.000097   \n",
       "\n",
       "   Country fe  Region fe  Market fe  Product ID fe  Product Name fe  \\\n",
       "0    0.001072   0.051764   0.278846       0.000390         0.000390   \n",
       "1    0.001072   0.051764   0.278846       0.000390         0.000390   \n",
       "2    0.001072   0.051764   0.278846       0.000273         0.000273   \n",
       "3    0.001072   0.051764   0.278846       0.000273         0.000273   \n",
       "4    0.001072   0.051764   0.278846       0.000351         0.000351   \n",
       "\n",
       "   Sub-Category fe  Category fe  Order Priority fe  \n",
       "0         0.047007     0.192240           0.573855  \n",
       "1         0.046929     0.610041           0.573855  \n",
       "2         0.028973     0.197719           0.573855  \n",
       "3         0.061493     0.192240           0.573855  \n",
       "4         0.046539     0.610041           0.573855  \n",
       "\n",
       "[5 rows x 23 columns]"
      ]
     },
     "execution_count": 3,
     "metadata": {},
     "output_type": "execute_result"
    }
   ],
   "source": [
    "df_new.head()"
   ]
  },
  {
   "cell_type": "code",
   "execution_count": 4,
   "metadata": {},
   "outputs": [],
   "source": [
    "df_new.drop(\"Unnamed: 0\",axis=1,inplace=True)"
   ]
  },
  {
   "cell_type": "code",
   "execution_count": 5,
   "metadata": {},
   "outputs": [
    {
     "name": "stdout",
     "output_type": "stream",
     "text": [
      "float64\n",
      "int64\n",
      "float64\n",
      "float64\n",
      "float64\n",
      "float64\n",
      "float64\n",
      "float64\n",
      "float64\n",
      "float64\n",
      "float64\n",
      "float64\n",
      "float64\n",
      "float64\n",
      "float64\n",
      "float64\n",
      "float64\n",
      "float64\n",
      "float64\n",
      "float64\n",
      "float64\n",
      "float64\n"
     ]
    }
   ],
   "source": [
    "for k,v in df_new.iteritems():\n",
    "    print(df_new[k].dtype)"
   ]
  },
  {
   "cell_type": "code",
   "execution_count": 6,
   "metadata": {},
   "outputs": [],
   "source": [
    "X=df_new[:].values"
   ]
  },
  {
   "cell_type": "code",
   "execution_count": 7,
   "metadata": {},
   "outputs": [
    {
     "name": "stdout",
     "output_type": "stream",
     "text": [
      "[[7.31820000e+02 2.00000000e+00 0.00000000e+00 ... 4.70072139e-02\n",
      "  1.92240203e-01 5.73854553e-01]\n",
      " [2.43540000e+02 9.00000000e+00 0.00000000e+00 ... 4.69292260e-02\n",
      "  6.10040944e-01 5.73854553e-01]\n",
      " [3.46320000e+02 3.00000000e+00 0.00000000e+00 ... 2.89725093e-02\n",
      "  1.97718854e-01 5.73854553e-01]\n",
      " ...\n",
      " [7.74900000e+00 1.00000000e+00 7.00000000e-01 ... 9.48333008e-02\n",
      "  6.10040944e-01 5.73854553e-01]\n",
      " [1.04364000e+02 2.00000000e+00 7.00000000e-01 ... 2.89725093e-02\n",
      "  1.97718854e-01 5.73854553e-01]\n",
      " [3.46500000e+00 1.00000000e+00 7.00000000e-01 ... 1.19828427e-01\n",
      "  6.10040944e-01 5.73854553e-01]]\n"
     ]
    }
   ],
   "source": [
    "print(X)"
   ]
  },
  {
   "cell_type": "code",
   "execution_count": 8,
   "metadata": {},
   "outputs": [
    {
     "data": {
      "text/plain": [
       "33"
      ]
     },
     "execution_count": 8,
     "metadata": {},
     "output_type": "execute_result"
    }
   ],
   "source": [
    "df_new.isnull().sum().sum() #total no of null values"
   ]
  },
  {
   "cell_type": "code",
   "execution_count": 9,
   "metadata": {},
   "outputs": [
    {
     "data": {
      "text/plain": [
       "Sales                 0\n",
       "Quantity              0\n",
       "Discount              0\n",
       "Profit                0\n",
       "Shipping Cost         0\n",
       "Order ID fe           0\n",
       "Order Date fe         0\n",
       "Ship Date fe         33\n",
       "Ship Mode fe          0\n",
       "Customer ID fe        0\n",
       "Customer Name fe      0\n",
       "Segment fe            0\n",
       "City fe               0\n",
       "State fe              0\n",
       "Country fe            0\n",
       "Region fe             0\n",
       "Market fe             0\n",
       "Product ID fe         0\n",
       "Product Name fe       0\n",
       "Sub-Category fe       0\n",
       "Category fe           0\n",
       "Order Priority fe     0\n",
       "dtype: int64"
      ]
     },
     "execution_count": 9,
     "metadata": {},
     "output_type": "execute_result"
    }
   ],
   "source": [
    "df_new.isnull().sum(axis = 0)"
   ]
  },
  {
   "cell_type": "markdown",
   "metadata": {},
   "source": [
    "### Clustering cannot take null values so order date and shipping date can be removed"
   ]
  },
  {
   "cell_type": "code",
   "execution_count": 10,
   "metadata": {},
   "outputs": [],
   "source": [
    "df_new.drop(\"Order Date fe\",axis=1,inplace=True)"
   ]
  },
  {
   "cell_type": "code",
   "execution_count": 11,
   "metadata": {},
   "outputs": [],
   "source": [
    "df_new.drop(\"Ship Date fe\",axis=1,inplace=True)"
   ]
  },
  {
   "cell_type": "code",
   "execution_count": 12,
   "metadata": {},
   "outputs": [
    {
     "data": {
      "text/plain": [
       "Sales                0\n",
       "Quantity             0\n",
       "Discount             0\n",
       "Profit               0\n",
       "Shipping Cost        0\n",
       "Order ID fe          0\n",
       "Ship Mode fe         0\n",
       "Customer ID fe       0\n",
       "Customer Name fe     0\n",
       "Segment fe           0\n",
       "City fe              0\n",
       "State fe             0\n",
       "Country fe           0\n",
       "Region fe            0\n",
       "Market fe            0\n",
       "Product ID fe        0\n",
       "Product Name fe      0\n",
       "Sub-Category fe      0\n",
       "Category fe          0\n",
       "Order Priority fe    0\n",
       "dtype: int64"
      ]
     },
     "execution_count": 12,
     "metadata": {},
     "output_type": "execute_result"
    }
   ],
   "source": [
    "df_new.isnull().sum(axis = 0)"
   ]
  },
  {
   "cell_type": "code",
   "execution_count": 13,
   "metadata": {},
   "outputs": [],
   "source": [
    "X=df_new[:].values"
   ]
  },
  {
   "cell_type": "code",
   "execution_count": 14,
   "metadata": {},
   "outputs": [
    {
     "name": "stdout",
     "output_type": "stream",
     "text": [
      "[[7.31820000e+02 2.00000000e+00 0.00000000e+00 ... 4.70072139e-02\n",
      "  1.92240203e-01 5.73854553e-01]\n",
      " [2.43540000e+02 9.00000000e+00 0.00000000e+00 ... 4.69292260e-02\n",
      "  6.10040944e-01 5.73854553e-01]\n",
      " [3.46320000e+02 3.00000000e+00 0.00000000e+00 ... 2.89725093e-02\n",
      "  1.97718854e-01 5.73854553e-01]\n",
      " ...\n",
      " [7.74900000e+00 1.00000000e+00 7.00000000e-01 ... 9.48333008e-02\n",
      "  6.10040944e-01 5.73854553e-01]\n",
      " [1.04364000e+02 2.00000000e+00 7.00000000e-01 ... 2.89725093e-02\n",
      "  1.97718854e-01 5.73854553e-01]\n",
      " [3.46500000e+00 1.00000000e+00 7.00000000e-01 ... 1.19828427e-01\n",
      "  6.10040944e-01 5.73854553e-01]]\n"
     ]
    }
   ],
   "source": [
    "print(X)"
   ]
  },
  {
   "cell_type": "code",
   "execution_count": 15,
   "metadata": {},
   "outputs": [
    {
     "data": {
      "image/png": "[encoded data removed]",
      "text/plain": [
       "<Figure size 432x288 with 1 Axes>"
      ]
     },
     "metadata": {
      "needs_background": "light"
     },
     "output_type": "display_data"
    }
   ],
   "source": [
    "# Using the elbow method to find the optimal number of clusters\n",
    "from sklearn.cluster import KMeans\n",
    "wcss = []\n",
    "for i in range(1, 11):\n",
    "    kmeans = KMeans(n_clusters = i, init = 'k-means++', random_state = 42)\n",
    "    kmeans.fit(X)\n",
    "    wcss.append(kmeans.inertia_)\n",
    "plt.plot(range(1, 11), wcss)\n",
    "plt.title('The Elbow Method')\n",
    "plt.xlabel('Number of clusters')\n",
    "plt.ylabel('WCSS')\n",
    "plt.show()"
   ]
  },
  {
   "cell_type": "markdown",
   "metadata": {},
   "source": [
    "### here in the elbow graph it can be noted that the curve smoothens after 5 so the optimum no of cluster=5"
   ]
  },
  {
   "cell_type": "code",
   "execution_count": 16,
   "metadata": {},
   "outputs": [],
   "source": [
    "# Fitting K-Means to the dataset\n",
    "kmeans = KMeans(n_clusters = 5, init = 'k-means++', random_state = 42)\n",
    "y_kmeans = kmeans.fit_predict(X)"
   ]
  },
  {
   "cell_type": "code",
   "execution_count": 17,
   "metadata": {},
   "outputs": [],
   "source": [
    "y_kmeans_list=list(y_kmeans)"
   ]
  },
  {
   "cell_type": "code",
   "execution_count": 18,
   "metadata": {},
   "outputs": [],
   "source": [
    "y_kmeans_set=set(y_kmeans_list)"
   ]
  },
  {
   "cell_type": "code",
   "execution_count": 19,
   "metadata": {},
   "outputs": [
    {
     "name": "stdout",
     "output_type": "stream",
     "text": [
      "No of clusters :  {0, 1, 2, 3, 4}\n"
     ]
    }
   ],
   "source": [
    "print(\"No of clusters : \",y_kmeans_set)"
   ]
  },
  {
   "cell_type": "code",
   "execution_count": 20,
   "metadata": {},
   "outputs": [
    {
     "data": {
      "image/png": "[encoded data removed]",
      "text/plain": [
       "<Figure size 432x288 with 1 Axes>"
      ]
     },
     "metadata": {
      "needs_background": "light"
     },
     "output_type": "display_data"
    }
   ],
   "source": [
    "plt.scatter(X[y_kmeans == 0, 0], X[y_kmeans == 0, 1], s = 100, c = 'red', label = 'Cluster 1')\n",
    "plt.scatter(X[y_kmeans == 1, 0], X[y_kmeans == 1, 1], s = 100, c = 'blue', label = 'Cluster 2')\n",
    "plt.scatter(X[y_kmeans == 2, 0], X[y_kmeans == 2, 1], s = 100, c = 'green', label = 'Cluster 3')\n",
    "plt.scatter(X[y_kmeans == 3, 0], X[y_kmeans == 3, 1], s = 100, c = 'cyan', label = 'Cluster 4')\n",
    "plt.scatter(X[y_kmeans == 4, 0], X[y_kmeans == 4, 1], s = 100, c = 'magenta', label = 'Cluster 5')\n",
    "plt.scatter(kmeans.cluster_centers_[:, 0], kmeans.cluster_centers_[:, 1], s = 300, c = 'yellow', label = 'Centroids')\n",
    "plt.title('Clusters of customers')\n",
    "plt.legend()\n",
    "plt.show()"
   ]
  },
  {
   "cell_type": "code",
   "execution_count": 21,
   "metadata": {},
   "outputs": [],
   "source": [
    "#y_kmeans"
   ]
  },
  {
   "cell_type": "code",
   "execution_count": 22,
   "metadata": {},
   "outputs": [],
   "source": [
    "#df_new_copy=df_new.copy()"
   ]
  },
  {
   "cell_type": "code",
   "execution_count": 23,
   "metadata": {},
   "outputs": [],
   "source": [
    "#df_new_copy[\"Y_kmeans\"]=y_kmeans"
   ]
  },
  {
   "cell_type": "code",
   "execution_count": null,
   "metadata": {},
   "outputs": [],
   "source": [
    "#df_new_copy.head()"
   ]
  },
  {
   "cell_type": "code",
   "execution_count": null,
   "metadata": {},
   "outputs": [],
   "source": [
    "#df_new_copy.to_excel(\"Clustered Global SuperStore data.xlsx\")"
   ]
  },
  {
   "cell_type": "code",
   "execution_count": null,
   "metadata": {},
   "outputs": [],
   "source": [
    "from sklearn.cluster import AgglomerativeClustering\n",
    "hc = AgglomerativeClustering(n_clusters = 5, affinity = 'euclidean', linkage = 'ward')\n",
    "y_hc = hc.fit_predict(X)"
   ]
  },
  {
   "cell_type": "code",
   "execution_count": null,
   "metadata": {},
   "outputs": [],
   "source": []
  }
 ],
 "metadata": {
  "kernelspec": {
   "display_name": "Python 3",
   "language": "python",
   "name": "python3"
  },
  "language_info": {
   "codemirror_mode": {
    "name": "ipython",
    "version": 3
   },
   "file_extension": ".py",
   "mimetype": "text/x-python",
   "name": "python",
   "nbconvert_exporter": "python",
   "pygments_lexer": "ipython3",
   "version": "3.7.3"
  },
  "varInspector": {
   "cols": {
    "lenName": 16,
    "lenType": 16,
    "lenVar": 40
   },
   "kernels_config": {
    "python": {
     "delete_cmd_postfix": "",
     "delete_cmd_prefix": "del ",
     "library": "var_list.py",
     "varRefreshCmd": "print(var_dic_list())"
    },
    "r": {
     "delete_cmd_postfix": ") ",
     "delete_cmd_prefix": "rm(",
     "library": "var_list.r",
     "varRefreshCmd": "cat(var_dic_list()) "
    }
   },
   "types_to_exclude": [
    "module",
    "function",
    "builtin_function_or_method",
    "instance",
    "_Feature"
   ],
   "window_display": false
  }
 },
 "nbformat": 4,
 "nbformat_minor": 2
}
