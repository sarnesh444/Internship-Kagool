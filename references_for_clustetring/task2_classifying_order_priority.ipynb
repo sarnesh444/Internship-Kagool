{
 "cells": [
  {
   "cell_type": "code",
   "execution_count": 1,
   "metadata": {},
   "outputs": [],
   "source": [
    "import pandas as pd\n",
    "import matplotlib.pyplot as plt\n",
    "import numpy as np"
   ]
  },
  {
   "cell_type": "code",
   "execution_count": 3,
   "metadata": {},
   "outputs": [],
   "source": [
    "df=pd.read_excel(\"Encoded Global Superstore data 2018.xlsx\")"
   ]
  },
  {
   "cell_type": "code",
   "execution_count": 4,
   "metadata": {},
   "outputs": [
    {
     "data": {
      "text/html": [
       "<div>\n",
       "<style scoped>\n",
       "    .dataframe tbody tr th:only-of-type {\n",
       "        vertical-align: middle;\n",
       "    }\n",
       "\n",
       "    .dataframe tbody tr th {\n",
       "        vertical-align: top;\n",
       "    }\n",
       "\n",
       "    .dataframe thead th {\n",
       "        text-align: right;\n",
       "    }\n",
       "</style>\n",
       "<table border=\"1\" class=\"dataframe\">\n",
       "  <thead>\n",
       "    <tr style=\"text-align: right;\">\n",
       "      <th></th>\n",
       "      <th>Unnamed: 0</th>\n",
       "      <th>Sales</th>\n",
       "      <th>Quantity</th>\n",
       "      <th>Discount</th>\n",
       "      <th>Profit</th>\n",
       "      <th>Shipping Cost</th>\n",
       "      <th>Order ID fe</th>\n",
       "      <th>Order Date fe</th>\n",
       "      <th>Ship Date fe</th>\n",
       "      <th>Ship Mode fe</th>\n",
       "      <th>...</th>\n",
       "      <th>City fe</th>\n",
       "      <th>State fe</th>\n",
       "      <th>Country fe</th>\n",
       "      <th>Region fe</th>\n",
       "      <th>Market fe</th>\n",
       "      <th>Product ID fe</th>\n",
       "      <th>Product Name fe</th>\n",
       "      <th>Sub-Category fe</th>\n",
       "      <th>Category fe</th>\n",
       "      <th>Order Priority fe</th>\n",
       "    </tr>\n",
       "  </thead>\n",
       "  <tbody>\n",
       "    <tr>\n",
       "      <th>0</th>\n",
       "      <td>0</td>\n",
       "      <td>731.82</td>\n",
       "      <td>2</td>\n",
       "      <td>0.0</td>\n",
       "      <td>102.42</td>\n",
       "      <td>39.66</td>\n",
       "      <td>0.000058</td>\n",
       "      <td>0.000643</td>\n",
       "      <td>0.001579</td>\n",
       "      <td>0.600019</td>\n",
       "      <td>...</td>\n",
       "      <td>0.000097</td>\n",
       "      <td>0.000097</td>\n",
       "      <td>0.001072</td>\n",
       "      <td>0.051764</td>\n",
       "      <td>0.278846</td>\n",
       "      <td>0.000390</td>\n",
       "      <td>0.000390</td>\n",
       "      <td>0.047007</td>\n",
       "      <td>0.192240</td>\n",
       "      <td>0.573855</td>\n",
       "    </tr>\n",
       "    <tr>\n",
       "      <th>1</th>\n",
       "      <td>1</td>\n",
       "      <td>243.54</td>\n",
       "      <td>9</td>\n",
       "      <td>0.0</td>\n",
       "      <td>104.49</td>\n",
       "      <td>18.72</td>\n",
       "      <td>0.000039</td>\n",
       "      <td>0.000448</td>\n",
       "      <td>0.000546</td>\n",
       "      <td>0.200994</td>\n",
       "      <td>...</td>\n",
       "      <td>0.000097</td>\n",
       "      <td>0.000097</td>\n",
       "      <td>0.001072</td>\n",
       "      <td>0.051764</td>\n",
       "      <td>0.278846</td>\n",
       "      <td>0.000390</td>\n",
       "      <td>0.000390</td>\n",
       "      <td>0.046929</td>\n",
       "      <td>0.610041</td>\n",
       "      <td>0.573855</td>\n",
       "    </tr>\n",
       "    <tr>\n",
       "      <th>2</th>\n",
       "      <td>2</td>\n",
       "      <td>346.32</td>\n",
       "      <td>3</td>\n",
       "      <td>0.0</td>\n",
       "      <td>13.77</td>\n",
       "      <td>14.10</td>\n",
       "      <td>0.000058</td>\n",
       "      <td>0.000643</td>\n",
       "      <td>0.001579</td>\n",
       "      <td>0.600019</td>\n",
       "      <td>...</td>\n",
       "      <td>0.000097</td>\n",
       "      <td>0.000097</td>\n",
       "      <td>0.001072</td>\n",
       "      <td>0.051764</td>\n",
       "      <td>0.278846</td>\n",
       "      <td>0.000273</td>\n",
       "      <td>0.000273</td>\n",
       "      <td>0.028973</td>\n",
       "      <td>0.197719</td>\n",
       "      <td>0.573855</td>\n",
       "    </tr>\n",
       "    <tr>\n",
       "      <th>3</th>\n",
       "      <td>3</td>\n",
       "      <td>169.68</td>\n",
       "      <td>4</td>\n",
       "      <td>0.0</td>\n",
       "      <td>79.68</td>\n",
       "      <td>11.01</td>\n",
       "      <td>0.000058</td>\n",
       "      <td>0.000643</td>\n",
       "      <td>0.001579</td>\n",
       "      <td>0.600019</td>\n",
       "      <td>...</td>\n",
       "      <td>0.000097</td>\n",
       "      <td>0.000097</td>\n",
       "      <td>0.001072</td>\n",
       "      <td>0.051764</td>\n",
       "      <td>0.278846</td>\n",
       "      <td>0.000273</td>\n",
       "      <td>0.000273</td>\n",
       "      <td>0.061493</td>\n",
       "      <td>0.192240</td>\n",
       "      <td>0.573855</td>\n",
       "    </tr>\n",
       "    <tr>\n",
       "      <th>4</th>\n",
       "      <td>4</td>\n",
       "      <td>203.88</td>\n",
       "      <td>4</td>\n",
       "      <td>0.0</td>\n",
       "      <td>24.36</td>\n",
       "      <td>5.72</td>\n",
       "      <td>0.000039</td>\n",
       "      <td>0.000448</td>\n",
       "      <td>0.000546</td>\n",
       "      <td>0.200994</td>\n",
       "      <td>...</td>\n",
       "      <td>0.000097</td>\n",
       "      <td>0.000097</td>\n",
       "      <td>0.001072</td>\n",
       "      <td>0.051764</td>\n",
       "      <td>0.278846</td>\n",
       "      <td>0.000351</td>\n",
       "      <td>0.000351</td>\n",
       "      <td>0.046539</td>\n",
       "      <td>0.610041</td>\n",
       "      <td>0.573855</td>\n",
       "    </tr>\n",
       "  </tbody>\n",
       "</table>\n",
       "<p>5 rows × 23 columns</p>\n",
       "</div>"
      ],
      "text/plain": [
       "   Unnamed: 0   Sales  Quantity  Discount  Profit  Shipping Cost  Order ID fe  \\\n",
       "0           0  731.82         2       0.0  102.42          39.66     0.000058   \n",
       "1           1  243.54         9       0.0  104.49          18.72     0.000039   \n",
       "2           2  346.32         3       0.0   13.77          14.10     0.000058   \n",
       "3           3  169.68         4       0.0   79.68          11.01     0.000058   \n",
       "4           4  203.88         4       0.0   24.36           5.72     0.000039   \n",
       "\n",
       "   Order Date fe  Ship Date fe  Ship Mode fe  ...   City fe  State fe  \\\n",
       "0       0.000643      0.001579      0.600019  ...  0.000097  0.000097   \n",
       "1       0.000448      0.000546      0.200994  ...  0.000097  0.000097   \n",
       "2       0.000643      0.001579      0.600019  ...  0.000097  0.000097   \n",
       "3       0.000643      0.001579      0.600019  ...  0.000097  0.000097   \n",
       "4       0.000448      0.000546      0.200994  ...  0.000097  0.000097   \n",
       "\n",
       "   Country fe  Region fe  Market fe  Product ID fe  Product Name fe  \\\n",
       "0    0.001072   0.051764   0.278846       0.000390         0.000390   \n",
       "1    0.001072   0.051764   0.278846       0.000390         0.000390   \n",
       "2    0.001072   0.051764   0.278846       0.000273         0.000273   \n",
       "3    0.001072   0.051764   0.278846       0.000273         0.000273   \n",
       "4    0.001072   0.051764   0.278846       0.000351         0.000351   \n",
       "\n",
       "   Sub-Category fe  Category fe  Order Priority fe  \n",
       "0         0.047007     0.192240           0.573855  \n",
       "1         0.046929     0.610041           0.573855  \n",
       "2         0.028973     0.197719           0.573855  \n",
       "3         0.061493     0.192240           0.573855  \n",
       "4         0.046539     0.610041           0.573855  \n",
       "\n",
       "[5 rows x 23 columns]"
      ]
     },
     "execution_count": 4,
     "metadata": {},
     "output_type": "execute_result"
    }
   ],
   "source": [
    "df.head()"
   ]
  },
  {
   "cell_type": "code",
   "execution_count": 5,
   "metadata": {},
   "outputs": [],
   "source": [
    "df.drop(\"Unnamed: 0\",axis=1,inplace=True)"
   ]
  },
  {
   "cell_type": "code",
   "execution_count": 6,
   "metadata": {},
   "outputs": [],
   "source": [
    "df_copy=df.copy()"
   ]
  },
  {
   "cell_type": "code",
   "execution_count": 7,
   "metadata": {},
   "outputs": [
    {
     "data": {
      "text/html": [
       "<div>\n",
       "<style scoped>\n",
       "    .dataframe tbody tr th:only-of-type {\n",
       "        vertical-align: middle;\n",
       "    }\n",
       "\n",
       "    .dataframe tbody tr th {\n",
       "        vertical-align: top;\n",
       "    }\n",
       "\n",
       "    .dataframe thead th {\n",
       "        text-align: right;\n",
       "    }\n",
       "</style>\n",
       "<table border=\"1\" class=\"dataframe\">\n",
       "  <thead>\n",
       "    <tr style=\"text-align: right;\">\n",
       "      <th></th>\n",
       "      <th>Sales</th>\n",
       "      <th>Quantity</th>\n",
       "      <th>Discount</th>\n",
       "      <th>Profit</th>\n",
       "      <th>Shipping Cost</th>\n",
       "      <th>Order ID fe</th>\n",
       "      <th>Order Date fe</th>\n",
       "      <th>Ship Date fe</th>\n",
       "      <th>Ship Mode fe</th>\n",
       "      <th>Customer ID fe</th>\n",
       "      <th>...</th>\n",
       "      <th>City fe</th>\n",
       "      <th>State fe</th>\n",
       "      <th>Country fe</th>\n",
       "      <th>Region fe</th>\n",
       "      <th>Market fe</th>\n",
       "      <th>Product ID fe</th>\n",
       "      <th>Product Name fe</th>\n",
       "      <th>Sub-Category fe</th>\n",
       "      <th>Category fe</th>\n",
       "      <th>Order Priority fe</th>\n",
       "    </tr>\n",
       "  </thead>\n",
       "  <tbody>\n",
       "    <tr>\n",
       "      <th>0</th>\n",
       "      <td>731.82</td>\n",
       "      <td>2</td>\n",
       "      <td>0.0</td>\n",
       "      <td>102.42</td>\n",
       "      <td>39.66</td>\n",
       "      <td>0.000058</td>\n",
       "      <td>0.000643</td>\n",
       "      <td>0.001579</td>\n",
       "      <td>0.600019</td>\n",
       "      <td>0.000058</td>\n",
       "      <td>...</td>\n",
       "      <td>0.000097</td>\n",
       "      <td>0.000097</td>\n",
       "      <td>0.001072</td>\n",
       "      <td>0.051764</td>\n",
       "      <td>0.278846</td>\n",
       "      <td>0.000390</td>\n",
       "      <td>0.000390</td>\n",
       "      <td>0.047007</td>\n",
       "      <td>0.192240</td>\n",
       "      <td>0.573855</td>\n",
       "    </tr>\n",
       "    <tr>\n",
       "      <th>1</th>\n",
       "      <td>243.54</td>\n",
       "      <td>9</td>\n",
       "      <td>0.0</td>\n",
       "      <td>104.49</td>\n",
       "      <td>18.72</td>\n",
       "      <td>0.000039</td>\n",
       "      <td>0.000448</td>\n",
       "      <td>0.000546</td>\n",
       "      <td>0.200994</td>\n",
       "      <td>0.000039</td>\n",
       "      <td>...</td>\n",
       "      <td>0.000097</td>\n",
       "      <td>0.000097</td>\n",
       "      <td>0.001072</td>\n",
       "      <td>0.051764</td>\n",
       "      <td>0.278846</td>\n",
       "      <td>0.000390</td>\n",
       "      <td>0.000390</td>\n",
       "      <td>0.046929</td>\n",
       "      <td>0.610041</td>\n",
       "      <td>0.573855</td>\n",
       "    </tr>\n",
       "    <tr>\n",
       "      <th>2</th>\n",
       "      <td>346.32</td>\n",
       "      <td>3</td>\n",
       "      <td>0.0</td>\n",
       "      <td>13.77</td>\n",
       "      <td>14.10</td>\n",
       "      <td>0.000058</td>\n",
       "      <td>0.000643</td>\n",
       "      <td>0.001579</td>\n",
       "      <td>0.600019</td>\n",
       "      <td>0.000058</td>\n",
       "      <td>...</td>\n",
       "      <td>0.000097</td>\n",
       "      <td>0.000097</td>\n",
       "      <td>0.001072</td>\n",
       "      <td>0.051764</td>\n",
       "      <td>0.278846</td>\n",
       "      <td>0.000273</td>\n",
       "      <td>0.000273</td>\n",
       "      <td>0.028973</td>\n",
       "      <td>0.197719</td>\n",
       "      <td>0.573855</td>\n",
       "    </tr>\n",
       "    <tr>\n",
       "      <th>3</th>\n",
       "      <td>169.68</td>\n",
       "      <td>4</td>\n",
       "      <td>0.0</td>\n",
       "      <td>79.68</td>\n",
       "      <td>11.01</td>\n",
       "      <td>0.000058</td>\n",
       "      <td>0.000643</td>\n",
       "      <td>0.001579</td>\n",
       "      <td>0.600019</td>\n",
       "      <td>0.000058</td>\n",
       "      <td>...</td>\n",
       "      <td>0.000097</td>\n",
       "      <td>0.000097</td>\n",
       "      <td>0.001072</td>\n",
       "      <td>0.051764</td>\n",
       "      <td>0.278846</td>\n",
       "      <td>0.000273</td>\n",
       "      <td>0.000273</td>\n",
       "      <td>0.061493</td>\n",
       "      <td>0.192240</td>\n",
       "      <td>0.573855</td>\n",
       "    </tr>\n",
       "    <tr>\n",
       "      <th>4</th>\n",
       "      <td>203.88</td>\n",
       "      <td>4</td>\n",
       "      <td>0.0</td>\n",
       "      <td>24.36</td>\n",
       "      <td>5.72</td>\n",
       "      <td>0.000039</td>\n",
       "      <td>0.000448</td>\n",
       "      <td>0.000546</td>\n",
       "      <td>0.200994</td>\n",
       "      <td>0.000039</td>\n",
       "      <td>...</td>\n",
       "      <td>0.000097</td>\n",
       "      <td>0.000097</td>\n",
       "      <td>0.001072</td>\n",
       "      <td>0.051764</td>\n",
       "      <td>0.278846</td>\n",
       "      <td>0.000351</td>\n",
       "      <td>0.000351</td>\n",
       "      <td>0.046539</td>\n",
       "      <td>0.610041</td>\n",
       "      <td>0.573855</td>\n",
       "    </tr>\n",
       "  </tbody>\n",
       "</table>\n",
       "<p>5 rows × 22 columns</p>\n",
       "</div>"
      ],
      "text/plain": [
       "    Sales  Quantity  Discount  Profit  Shipping Cost  Order ID fe  \\\n",
       "0  731.82         2       0.0  102.42          39.66     0.000058   \n",
       "1  243.54         9       0.0  104.49          18.72     0.000039   \n",
       "2  346.32         3       0.0   13.77          14.10     0.000058   \n",
       "3  169.68         4       0.0   79.68          11.01     0.000058   \n",
       "4  203.88         4       0.0   24.36           5.72     0.000039   \n",
       "\n",
       "   Order Date fe  Ship Date fe  Ship Mode fe  Customer ID fe  ...   City fe  \\\n",
       "0       0.000643      0.001579      0.600019        0.000058  ...  0.000097   \n",
       "1       0.000448      0.000546      0.200994        0.000039  ...  0.000097   \n",
       "2       0.000643      0.001579      0.600019        0.000058  ...  0.000097   \n",
       "3       0.000643      0.001579      0.600019        0.000058  ...  0.000097   \n",
       "4       0.000448      0.000546      0.200994        0.000039  ...  0.000097   \n",
       "\n",
       "   State fe  Country fe  Region fe  Market fe  Product ID fe  Product Name fe  \\\n",
       "0  0.000097    0.001072   0.051764   0.278846       0.000390         0.000390   \n",
       "1  0.000097    0.001072   0.051764   0.278846       0.000390         0.000390   \n",
       "2  0.000097    0.001072   0.051764   0.278846       0.000273         0.000273   \n",
       "3  0.000097    0.001072   0.051764   0.278846       0.000273         0.000273   \n",
       "4  0.000097    0.001072   0.051764   0.278846       0.000351         0.000351   \n",
       "\n",
       "   Sub-Category fe  Category fe  Order Priority fe  \n",
       "0         0.047007     0.192240           0.573855  \n",
       "1         0.046929     0.610041           0.573855  \n",
       "2         0.028973     0.197719           0.573855  \n",
       "3         0.061493     0.192240           0.573855  \n",
       "4         0.046539     0.610041           0.573855  \n",
       "\n",
       "[5 rows x 22 columns]"
      ]
     },
     "execution_count": 7,
     "metadata": {},
     "output_type": "execute_result"
    }
   ],
   "source": [
    "df_copy.head()"
   ]
  },
  {
   "cell_type": "code",
   "execution_count": 21,
   "metadata": {},
   "outputs": [
    {
     "data": {
      "text/plain": [
       "33"
      ]
     },
     "execution_count": 21,
     "metadata": {},
     "output_type": "execute_result"
    }
   ],
   "source": [
    "df_copy.isnull().sum().sum()"
   ]
  },
  {
   "cell_type": "code",
   "execution_count": 23,
   "metadata": {},
   "outputs": [
    {
     "data": {
      "text/plain": [
       "Sales                 0\n",
       "Quantity              0\n",
       "Discount              0\n",
       "Profit                0\n",
       "Shipping Cost         0\n",
       "Order ID fe           0\n",
       "Order Date fe         0\n",
       "Ship Date fe         33\n",
       "Ship Mode fe          0\n",
       "Customer ID fe        0\n",
       "Customer Name fe      0\n",
       "Segment fe            0\n",
       "City fe               0\n",
       "State fe              0\n",
       "Country fe            0\n",
       "Region fe             0\n",
       "Market fe             0\n",
       "Product ID fe         0\n",
       "Product Name fe       0\n",
       "Sub-Category fe       0\n",
       "Category fe           0\n",
       "Order Priority fe     0\n",
       "dtype: int64"
      ]
     },
     "execution_count": 23,
     "metadata": {},
     "output_type": "execute_result"
    }
   ],
   "source": [
    "df_copy.isnull().sum(axis = 0)"
   ]
  },
  {
   "cell_type": "code",
   "execution_count": 25,
   "metadata": {},
   "outputs": [],
   "source": [
    "df_copy.drop(\"Order Date fe\",axis=1,inplace=True)"
   ]
  },
  {
   "cell_type": "code",
   "execution_count": 26,
   "metadata": {},
   "outputs": [],
   "source": [
    "df_copy.drop(\"Ship Date fe\",axis=1,inplace=True)"
   ]
  },
  {
   "cell_type": "code",
   "execution_count": 94,
   "metadata": {},
   "outputs": [
    {
     "data": {
      "text/plain": [
       "Sales                0\n",
       "Quantity             0\n",
       "Discount             0\n",
       "Profit               0\n",
       "Shipping Cost        0\n",
       "Order ID fe          0\n",
       "Ship Mode fe         0\n",
       "Customer ID fe       0\n",
       "Customer Name fe     0\n",
       "Segment fe           0\n",
       "City fe              0\n",
       "State fe             0\n",
       "Country fe           0\n",
       "Region fe            0\n",
       "Market fe            0\n",
       "Product ID fe        0\n",
       "Product Name fe      0\n",
       "Sub-Category fe      0\n",
       "Category fe          0\n",
       "Order Priority fe    0\n",
       "dtype: int64"
      ]
     },
     "execution_count": 94,
     "metadata": {},
     "output_type": "execute_result"
    }
   ],
   "source": [
    "df_copy.isnull().sum(axis = 0)"
   ]
  },
  {
   "cell_type": "code",
   "execution_count": 105,
   "metadata": {},
   "outputs": [],
   "source": [
    "X = df_copy.iloc[:,:-1].values\n",
    "y = df_copy.iloc[:,-1].values"
   ]
  },
  {
   "cell_type": "code",
   "execution_count": 106,
   "metadata": {},
   "outputs": [
    {
     "name": "stdout",
     "output_type": "stream",
     "text": [
      "19\n"
     ]
    }
   ],
   "source": [
    "print(len(X[0])) #everthiing considered except last col"
   ]
  },
  {
   "cell_type": "code",
   "execution_count": 107,
   "metadata": {},
   "outputs": [
    {
     "name": "stdout",
     "output_type": "stream",
     "text": [
      "[0.57385455 0.57385455 0.57385455 ... 0.57385455 0.57385455 0.57385455]\n"
     ]
    }
   ],
   "source": [
    "print(y)"
   ]
  },
  {
   "cell_type": "code",
   "execution_count": 108,
   "metadata": {},
   "outputs": [
    {
     "name": "stdout",
     "output_type": "stream",
     "text": [
      "51290\n"
     ]
    }
   ],
   "source": [
    "print(len(y))"
   ]
  },
  {
   "cell_type": "code",
   "execution_count": 109,
   "metadata": {},
   "outputs": [
    {
     "name": "stdout",
     "output_type": "stream",
     "text": [
      "<class 'numpy.ndarray'>\n",
      "<class 'numpy.ndarray'>\n"
     ]
    }
   ],
   "source": [
    "print(type(X))\n",
    "print(type(y))"
   ]
  },
  {
   "cell_type": "code",
   "execution_count": 110,
   "metadata": {},
   "outputs": [],
   "source": [
    "# Splitting the dataset into the Training set and Test set\n",
    "from sklearn.model_selection import train_test_split\n",
    "X_train, X_test, y_train, y_test = train_test_split(X, y, test_size = 0.25, random_state = 0)"
   ]
  },
  {
   "cell_type": "code",
   "execution_count": 93,
   "metadata": {},
   "outputs": [
    {
     "ename": "ValueError",
     "evalue": "Unknown label type: 'continuous'",
     "output_type": "error",
     "traceback": [
      "\u001b[1;31m---------------------------------------------------------------------------\u001b[0m",
      "\u001b[1;31mValueError\u001b[0m                                Traceback (most recent call last)",
      "\u001b[1;32m<ipython-input-93-5e7851672014>\u001b[0m in \u001b[0;36m<module>\u001b[1;34m\u001b[0m\n\u001b[0;32m      2\u001b[0m \u001b[1;32mfrom\u001b[0m \u001b[0msklearn\u001b[0m\u001b[1;33m.\u001b[0m\u001b[0mneighbors\u001b[0m \u001b[1;32mimport\u001b[0m \u001b[0mKNeighborsClassifier\u001b[0m\u001b[1;33m\u001b[0m\u001b[1;33m\u001b[0m\u001b[0m\n\u001b[0;32m      3\u001b[0m \u001b[0mclassifier\u001b[0m \u001b[1;33m=\u001b[0m \u001b[0mKNeighborsClassifier\u001b[0m\u001b[1;33m(\u001b[0m\u001b[0mn_neighbors\u001b[0m \u001b[1;33m=\u001b[0m \u001b[1;36m5\u001b[0m\u001b[1;33m,\u001b[0m \u001b[0mmetric\u001b[0m \u001b[1;33m=\u001b[0m \u001b[1;34m'minkowski'\u001b[0m\u001b[1;33m,\u001b[0m \u001b[0mp\u001b[0m \u001b[1;33m=\u001b[0m \u001b[1;36m2\u001b[0m\u001b[1;33m)\u001b[0m\u001b[1;33m\u001b[0m\u001b[1;33m\u001b[0m\u001b[0m\n\u001b[1;32m----> 4\u001b[1;33m \u001b[0mclassifier\u001b[0m\u001b[1;33m.\u001b[0m\u001b[0mfit\u001b[0m\u001b[1;33m(\u001b[0m\u001b[0mX_train\u001b[0m\u001b[1;33m,\u001b[0m \u001b[0my_train\u001b[0m\u001b[1;33m)\u001b[0m\u001b[1;33m\u001b[0m\u001b[1;33m\u001b[0m\u001b[0m\n\u001b[0m",
      "\u001b[1;32mC:\\ProgramData\\Anaconda3\\lib\\site-packages\\sklearn\\neighbors\\base.py\u001b[0m in \u001b[0;36mfit\u001b[1;34m(self, X, y)\u001b[0m\n\u001b[0;32m    903\u001b[0m             \u001b[0mself\u001b[0m\u001b[1;33m.\u001b[0m\u001b[0moutputs_2d_\u001b[0m \u001b[1;33m=\u001b[0m \u001b[1;32mTrue\u001b[0m\u001b[1;33m\u001b[0m\u001b[1;33m\u001b[0m\u001b[0m\n\u001b[0;32m    904\u001b[0m \u001b[1;33m\u001b[0m\u001b[0m\n\u001b[1;32m--> 905\u001b[1;33m         \u001b[0mcheck_classification_targets\u001b[0m\u001b[1;33m(\u001b[0m\u001b[0my\u001b[0m\u001b[1;33m)\u001b[0m\u001b[1;33m\u001b[0m\u001b[1;33m\u001b[0m\u001b[0m\n\u001b[0m\u001b[0;32m    906\u001b[0m         \u001b[0mself\u001b[0m\u001b[1;33m.\u001b[0m\u001b[0mclasses_\u001b[0m \u001b[1;33m=\u001b[0m \u001b[1;33m[\u001b[0m\u001b[1;33m]\u001b[0m\u001b[1;33m\u001b[0m\u001b[1;33m\u001b[0m\u001b[0m\n\u001b[0;32m    907\u001b[0m         \u001b[0mself\u001b[0m\u001b[1;33m.\u001b[0m\u001b[0m_y\u001b[0m \u001b[1;33m=\u001b[0m \u001b[0mnp\u001b[0m\u001b[1;33m.\u001b[0m\u001b[0mempty\u001b[0m\u001b[1;33m(\u001b[0m\u001b[0my\u001b[0m\u001b[1;33m.\u001b[0m\u001b[0mshape\u001b[0m\u001b[1;33m,\u001b[0m \u001b[0mdtype\u001b[0m\u001b[1;33m=\u001b[0m\u001b[0mnp\u001b[0m\u001b[1;33m.\u001b[0m\u001b[0mint\u001b[0m\u001b[1;33m)\u001b[0m\u001b[1;33m\u001b[0m\u001b[1;33m\u001b[0m\u001b[0m\n",
      "\u001b[1;32mC:\\ProgramData\\Anaconda3\\lib\\site-packages\\sklearn\\utils\\multiclass.py\u001b[0m in \u001b[0;36mcheck_classification_targets\u001b[1;34m(y)\u001b[0m\n\u001b[0;32m    169\u001b[0m     if y_type not in ['binary', 'multiclass', 'multiclass-multioutput',\n\u001b[0;32m    170\u001b[0m                       'multilabel-indicator', 'multilabel-sequences']:\n\u001b[1;32m--> 171\u001b[1;33m         \u001b[1;32mraise\u001b[0m \u001b[0mValueError\u001b[0m\u001b[1;33m(\u001b[0m\u001b[1;34m\"Unknown label type: %r\"\u001b[0m \u001b[1;33m%\u001b[0m \u001b[0my_type\u001b[0m\u001b[1;33m)\u001b[0m\u001b[1;33m\u001b[0m\u001b[1;33m\u001b[0m\u001b[0m\n\u001b[0m\u001b[0;32m    172\u001b[0m \u001b[1;33m\u001b[0m\u001b[0m\n\u001b[0;32m    173\u001b[0m \u001b[1;33m\u001b[0m\u001b[0m\n",
      "\u001b[1;31mValueError\u001b[0m: Unknown label type: 'continuous'"
     ]
    }
   ],
   "source": [
    "# Fitting K-NN to the Training set\n",
    "from sklearn.neighbors import KNeighborsClassifier\n",
    "classifier = KNeighborsClassifier(n_neighbors = 5, metric = 'minkowski', p = 2)\n",
    "classifier.fit(X_train, y_train)"
   ]
  },
  {
   "cell_type": "code",
   "execution_count": null,
   "metadata": {},
   "outputs": [],
   "source": []
  }
 ],
 "metadata": {
  "kernelspec": {
   "display_name": "Python 3",
   "language": "python",
   "name": "python3"
  },
  "language_info": {
   "codemirror_mode": {
    "name": "ipython",
    "version": 3
   },
   "file_extension": ".py",
   "mimetype": "text/x-python",
   "name": "python",
   "nbconvert_exporter": "python",
   "pygments_lexer": "ipython3",
   "version": "3.7.3"
  },
  "varInspector": {
   "cols": {
    "lenName": 16,
    "lenType": 16,
    "lenVar": 40
   },
   "kernels_config": {
    "python": {
     "delete_cmd_postfix": "",
     "delete_cmd_prefix": "del ",
     "library": "var_list.py",
     "varRefreshCmd": "print(var_dic_list())"
    },
    "r": {
     "delete_cmd_postfix": ") ",
     "delete_cmd_prefix": "rm(",
     "library": "var_list.r",
     "varRefreshCmd": "cat(var_dic_list()) "
    }
   },
   "types_to_exclude": [
    "module",
    "function",
    "builtin_function_or_method",
    "instance",
    "_Feature"
   ],
   "window_display": false
  }
 },
 "nbformat": 4,
 "nbformat_minor": 2
}
