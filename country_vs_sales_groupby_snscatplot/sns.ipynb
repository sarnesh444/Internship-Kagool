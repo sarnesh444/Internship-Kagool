{
 "cells": [
  {
   "cell_type": "code",
   "execution_count": 1,
   "metadata": {},
   "outputs": [],
   "source": [
    "import pandas as pd\n",
    "import matplotlib.pyplot as plt\n",
    "import numpy as np"
   ]
  },
  {
   "cell_type": "code",
   "execution_count": 2,
   "metadata": {},
   "outputs": [],
   "source": [
    "df=pd.read_excel(\"Global Superstore 2018.xlsx\")"
   ]
  },
  {
   "cell_type": "code",
   "execution_count": 3,
   "metadata": {},
   "outputs": [
    {
     "data": {
      "text/html": [
       "<div>\n",
       "<style scoped>\n",
       "    .dataframe tbody tr th:only-of-type {\n",
       "        vertical-align: middle;\n",
       "    }\n",
       "\n",
       "    .dataframe tbody tr th {\n",
       "        vertical-align: top;\n",
       "    }\n",
       "\n",
       "    .dataframe thead th {\n",
       "        text-align: right;\n",
       "    }\n",
       "</style>\n",
       "<table border=\"1\" class=\"dataframe\">\n",
       "  <thead>\n",
       "    <tr style=\"text-align: right;\">\n",
       "      <th></th>\n",
       "      <th>Row ID</th>\n",
       "      <th>Order ID</th>\n",
       "      <th>Order Date</th>\n",
       "      <th>Ship Date</th>\n",
       "      <th>Ship Mode</th>\n",
       "      <th>Customer ID</th>\n",
       "      <th>Customer Name</th>\n",
       "      <th>Segment</th>\n",
       "      <th>Postal Code</th>\n",
       "      <th>City</th>\n",
       "      <th>...</th>\n",
       "      <th>Product ID</th>\n",
       "      <th>Product Name</th>\n",
       "      <th>Sub-Category</th>\n",
       "      <th>Category</th>\n",
       "      <th>Sales</th>\n",
       "      <th>Quantity</th>\n",
       "      <th>Discount</th>\n",
       "      <th>Profit</th>\n",
       "      <th>Shipping Cost</th>\n",
       "      <th>Order Priority</th>\n",
       "    </tr>\n",
       "  </thead>\n",
       "  <tbody>\n",
       "    <tr>\n",
       "      <th>0</th>\n",
       "      <td>24599</td>\n",
       "      <td>IN-2017-CA120551-42816</td>\n",
       "      <td>2017-03-22</td>\n",
       "      <td>2017-03-29</td>\n",
       "      <td>Standard Class</td>\n",
       "      <td>CA-120551</td>\n",
       "      <td>Cathy Armstrong</td>\n",
       "      <td>Home Office</td>\n",
       "      <td>NaN</td>\n",
       "      <td>Herat</td>\n",
       "      <td>...</td>\n",
       "      <td>FUR-BO-4861</td>\n",
       "      <td>Ikea Library with Doors, Mobile</td>\n",
       "      <td>Bookcases</td>\n",
       "      <td>Furniture</td>\n",
       "      <td>731.82</td>\n",
       "      <td>2</td>\n",
       "      <td>0.0</td>\n",
       "      <td>102.42</td>\n",
       "      <td>39.66</td>\n",
       "      <td>Medium</td>\n",
       "    </tr>\n",
       "    <tr>\n",
       "      <th>1</th>\n",
       "      <td>29465</td>\n",
       "      <td>ID-2015-BD116051-42248</td>\n",
       "      <td>2015-09-01</td>\n",
       "      <td>2015-09-04</td>\n",
       "      <td>Second Class</td>\n",
       "      <td>BD-116051</td>\n",
       "      <td>Brian Dahlen</td>\n",
       "      <td>Consumer</td>\n",
       "      <td>NaN</td>\n",
       "      <td>Herat</td>\n",
       "      <td>...</td>\n",
       "      <td>OFF-SU-2988</td>\n",
       "      <td>Acme Scissors, Easy Grip</td>\n",
       "      <td>Supplies</td>\n",
       "      <td>Office Supplies</td>\n",
       "      <td>243.54</td>\n",
       "      <td>9</td>\n",
       "      <td>0.0</td>\n",
       "      <td>104.49</td>\n",
       "      <td>18.72</td>\n",
       "      <td>Medium</td>\n",
       "    </tr>\n",
       "    <tr>\n",
       "      <th>2</th>\n",
       "      <td>24598</td>\n",
       "      <td>IN-2017-CA120551-42816</td>\n",
       "      <td>2017-03-22</td>\n",
       "      <td>2017-03-29</td>\n",
       "      <td>Standard Class</td>\n",
       "      <td>CA-120551</td>\n",
       "      <td>Cathy Armstrong</td>\n",
       "      <td>Home Office</td>\n",
       "      <td>NaN</td>\n",
       "      <td>Herat</td>\n",
       "      <td>...</td>\n",
       "      <td>TEC-MA-4211</td>\n",
       "      <td>Epson Receipt Printer, White</td>\n",
       "      <td>Machines</td>\n",
       "      <td>Technology</td>\n",
       "      <td>346.32</td>\n",
       "      <td>3</td>\n",
       "      <td>0.0</td>\n",
       "      <td>13.77</td>\n",
       "      <td>14.10</td>\n",
       "      <td>Medium</td>\n",
       "    </tr>\n",
       "    <tr>\n",
       "      <th>3</th>\n",
       "      <td>24597</td>\n",
       "      <td>IN-2017-CA120551-42816</td>\n",
       "      <td>2017-03-22</td>\n",
       "      <td>2017-03-29</td>\n",
       "      <td>Standard Class</td>\n",
       "      <td>CA-120551</td>\n",
       "      <td>Cathy Armstrong</td>\n",
       "      <td>Home Office</td>\n",
       "      <td>NaN</td>\n",
       "      <td>Herat</td>\n",
       "      <td>...</td>\n",
       "      <td>FUR-FU-5726</td>\n",
       "      <td>Rubbermaid Door Stop, Erganomic</td>\n",
       "      <td>Furnishings</td>\n",
       "      <td>Furniture</td>\n",
       "      <td>169.68</td>\n",
       "      <td>4</td>\n",
       "      <td>0.0</td>\n",
       "      <td>79.68</td>\n",
       "      <td>11.01</td>\n",
       "      <td>Medium</td>\n",
       "    </tr>\n",
       "    <tr>\n",
       "      <th>4</th>\n",
       "      <td>29464</td>\n",
       "      <td>ID-2015-BD116051-42248</td>\n",
       "      <td>2015-09-01</td>\n",
       "      <td>2015-09-04</td>\n",
       "      <td>Second Class</td>\n",
       "      <td>BD-116051</td>\n",
       "      <td>Brian Dahlen</td>\n",
       "      <td>Consumer</td>\n",
       "      <td>NaN</td>\n",
       "      <td>Herat</td>\n",
       "      <td>...</td>\n",
       "      <td>OFF-EN-3664</td>\n",
       "      <td>Cameo Interoffice Envelope, with clear poly wi...</td>\n",
       "      <td>Envelopes</td>\n",
       "      <td>Office Supplies</td>\n",
       "      <td>203.88</td>\n",
       "      <td>4</td>\n",
       "      <td>0.0</td>\n",
       "      <td>24.36</td>\n",
       "      <td>5.72</td>\n",
       "      <td>Medium</td>\n",
       "    </tr>\n",
       "  </tbody>\n",
       "</table>\n",
       "<p>5 rows × 24 columns</p>\n",
       "</div>"
      ],
      "text/plain": [
       "   Row ID                Order ID Order Date  Ship Date       Ship Mode  \\\n",
       "0   24599  IN-2017-CA120551-42816 2017-03-22 2017-03-29  Standard Class   \n",
       "1   29465  ID-2015-BD116051-42248 2015-09-01 2015-09-04    Second Class   \n",
       "2   24598  IN-2017-CA120551-42816 2017-03-22 2017-03-29  Standard Class   \n",
       "3   24597  IN-2017-CA120551-42816 2017-03-22 2017-03-29  Standard Class   \n",
       "4   29464  ID-2015-BD116051-42248 2015-09-01 2015-09-04    Second Class   \n",
       "\n",
       "  Customer ID    Customer Name      Segment  Postal Code   City  ...  \\\n",
       "0   CA-120551  Cathy Armstrong  Home Office          NaN  Herat  ...   \n",
       "1   BD-116051     Brian Dahlen     Consumer          NaN  Herat  ...   \n",
       "2   CA-120551  Cathy Armstrong  Home Office          NaN  Herat  ...   \n",
       "3   CA-120551  Cathy Armstrong  Home Office          NaN  Herat  ...   \n",
       "4   BD-116051     Brian Dahlen     Consumer          NaN  Herat  ...   \n",
       "\n",
       "    Product ID                                       Product Name  \\\n",
       "0  FUR-BO-4861                    Ikea Library with Doors, Mobile   \n",
       "1  OFF-SU-2988                           Acme Scissors, Easy Grip   \n",
       "2  TEC-MA-4211                       Epson Receipt Printer, White   \n",
       "3  FUR-FU-5726                    Rubbermaid Door Stop, Erganomic   \n",
       "4  OFF-EN-3664  Cameo Interoffice Envelope, with clear poly wi...   \n",
       "\n",
       "  Sub-Category         Category   Sales Quantity Discount  Profit  \\\n",
       "0    Bookcases        Furniture  731.82        2      0.0  102.42   \n",
       "1     Supplies  Office Supplies  243.54        9      0.0  104.49   \n",
       "2     Machines       Technology  346.32        3      0.0   13.77   \n",
       "3  Furnishings        Furniture  169.68        4      0.0   79.68   \n",
       "4    Envelopes  Office Supplies  203.88        4      0.0   24.36   \n",
       "\n",
       "   Shipping Cost  Order Priority  \n",
       "0          39.66          Medium  \n",
       "1          18.72          Medium  \n",
       "2          14.10          Medium  \n",
       "3          11.01          Medium  \n",
       "4           5.72          Medium  \n",
       "\n",
       "[5 rows x 24 columns]"
      ]
     },
     "execution_count": 3,
     "metadata": {},
     "output_type": "execute_result"
    }
   ],
   "source": [
    "df.head()"
   ]
  },
  {
   "cell_type": "code",
   "execution_count": 4,
   "metadata": {},
   "outputs": [],
   "source": [
    "import seaborn as sns"
   ]
  },
  {
   "cell_type": "code",
   "execution_count": 5,
   "metadata": {},
   "outputs": [
    {
     "data": {
      "text/plain": [
       "<seaborn.axisgrid.FacetGrid at 0x15e739ec2b0>"
      ]
     },
     "execution_count": 5,
     "metadata": {},
     "output_type": "execute_result"
    },
    {
     "data": {
      "image/png": "[encoded data removed]",
      "text/plain": [
       "<Figure size 360x360 with 1 Axes>"
      ]
     },
     "metadata": {
      "needs_background": "light"
     },
     "output_type": "display_data"
    }
   ],
   "source": [
    "sns.catplot(\"Ship Mode\",\"Sales\",data=df)"
   ]
  },
  {
   "cell_type": "code",
   "execution_count": 6,
   "metadata": {},
   "outputs": [
    {
     "data": {
      "text/plain": [
       "<seaborn.axisgrid.FacetGrid at 0x15e739f7cc0>"
      ]
     },
     "execution_count": 6,
     "metadata": {},
     "output_type": "execute_result"
    },
    {
     "data": {
      "image/png": "[encoded data removed]",
      "text/plain": [
       "<Figure size 360x360 with 1 Axes>"
      ]
     },
     "metadata": {
      "needs_background": "light"
     },
     "output_type": "display_data"
    }
   ],
   "source": [
    "sns.catplot(\"Ship Mode\",\"Sales\",data=df,jitter=False)"
   ]
  },
  {
   "cell_type": "code",
   "execution_count": null,
   "metadata": {},
   "outputs": [],
   "source": [
    "sns.catplot(x)"
   ]
  }
 ],
 "metadata": {
  "kernelspec": {
   "display_name": "Python 3",
   "language": "python",
   "name": "python3"
  },
  "language_info": {
   "codemirror_mode": {
    "name": "ipython",
    "version": 3
   },
   "file_extension": ".py",
   "mimetype": "text/x-python",
   "name": "python",
   "nbconvert_exporter": "python",
   "pygments_lexer": "ipython3",
   "version": "3.7.3"
  },
  "varInspector": {
   "cols": {
    "lenName": 16,
    "lenType": 16,
    "lenVar": 40
   },
   "kernels_config": {
    "python": {
     "delete_cmd_postfix": "",
     "delete_cmd_prefix": "del ",
     "library": "var_list.py",
     "varRefreshCmd": "print(var_dic_list())"
    },
    "r": {
     "delete_cmd_postfix": ") ",
     "delete_cmd_prefix": "rm(",
     "library": "var_list.r",
     "varRefreshCmd": "cat(var_dic_list()) "
    }
   },
   "types_to_exclude": [
    "module",
    "function",
    "builtin_function_or_method",
    "instance",
    "_Feature"
   ],
   "window_display": false
  }
 },
 "nbformat": 4,
 "nbformat_minor": 2
}
