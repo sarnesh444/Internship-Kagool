{
  "nbformat": 4,
  "nbformat_minor": 0,
  "metadata": {
    "kernelspec": {
      "display_name": "Python 3",
      "language": "python",
      "name": "python3"
    },
    "language_info": {
      "codemirror_mode": {
        "name": "ipython",
        "version": 3
      },
      "file_extension": ".py",
      "mimetype": "text/x-python",
      "name": "python",
      "nbconvert_exporter": "python",
      "pygments_lexer": "ipython3",
      "version": "3.7.3"
    },
    "varInspector": {
      "cols": {
        "lenName": 16,
        "lenType": 16,
        "lenVar": 40
      },
      "kernels_config": {
        "python": {
          "delete_cmd_postfix": "",
          "delete_cmd_prefix": "del ",
          "library": "var_list.py",
          "varRefreshCmd": "print(var_dic_list())"
        },
        "r": {
          "delete_cmd_postfix": ") ",
          "delete_cmd_prefix": "rm(",
          "library": "var_list.r",
          "varRefreshCmd": "cat(var_dic_list()) "
        }
      },
      "types_to_exclude": [
        "module",
        "function",
        "builtin_function_or_method",
        "instance",
        "_Feature"
      ],
      "window_display": false
    },
    "colab": {
      "name": "sns.ipynb",
      "provenance": [],
      "collapsed_sections": []
    }
  },
  "cells": [
    {
      "cell_type": "code",
      "metadata": {
        "id": "MW1mlQ99jOES",
        "colab_type": "code",
        "colab": {}
      },
      "source": [
        "import pandas as pd\n",
        "import matplotlib.pyplot as plt\n",
        "import numpy as np"
      ],
      "execution_count": 0,
      "outputs": []
    },
    {
      "cell_type": "code",
      "metadata": {
        "id": "LAOjIQbqjOEW",
        "colab_type": "code",
        "colab": {}
      },
      "source": [
        "df=pd.read_excel(\"Global Superstore 2018.xlsx\")"
      ],
      "execution_count": 0,
      "outputs": []
    },
    {
      "cell_type": "code",
      "metadata": {
        "id": "4qKNKufPjOEb",
        "colab_type": "code",
        "outputId": "235afd1e-592f-4ddc-e2b4-d9bdd1fe5ffc",
        "colab": {
          "base_uri": "https://localhost:8080/",
          "height": 451
        }
      },
      "source": [
        "df.head()"
      ],
      "execution_count": 0,
      "outputs": [
        {
          "output_type": "execute_result",
          "data": {
            "text/html": [
              "<div>\n",
              "<style scoped>\n",
              "    .dataframe tbody tr th:only-of-type {\n",
              "        vertical-align: middle;\n",
              "    }\n",
              "\n",
              "    .dataframe tbody tr th {\n",
              "        vertical-align: top;\n",
              "    }\n",
              "\n",
              "    .dataframe thead th {\n",
              "        text-align: right;\n",
              "    }\n",
              "</style>\n",
              "<table border=\"1\" class=\"dataframe\">\n",
              "  <thead>\n",
              "    <tr style=\"text-align: right;\">\n",
              "      <th></th>\n",
              "      <th>Row ID</th>\n",
              "      <th>Order ID</th>\n",
              "      <th>Order Date</th>\n",
              "      <th>Ship Date</th>\n",
              "      <th>Ship Mode</th>\n",
              "      <th>Customer ID</th>\n",
              "      <th>Customer Name</th>\n",
              "      <th>Segment</th>\n",
              "      <th>Postal Code</th>\n",
              "      <th>City</th>\n",
              "      <th>State</th>\n",
              "      <th>Country</th>\n",
              "      <th>Region</th>\n",
              "      <th>Market</th>\n",
              "      <th>Product ID</th>\n",
              "      <th>Product Name</th>\n",
              "      <th>Sub-Category</th>\n",
              "      <th>Category</th>\n",
              "      <th>Sales</th>\n",
              "      <th>Quantity</th>\n",
              "      <th>Discount</th>\n",
              "      <th>Profit</th>\n",
              "      <th>Shipping Cost</th>\n",
              "      <th>Order Priority</th>\n",
              "    </tr>\n",
              "  </thead>\n",
              "  <tbody>\n",
              "    <tr>\n",
              "      <th>0</th>\n",
              "      <td>24599</td>\n",
              "      <td>IN-2017-CA120551-42816</td>\n",
              "      <td>2017-03-22</td>\n",
              "      <td>2017-03-29</td>\n",
              "      <td>Standard Class</td>\n",
              "      <td>CA-120551</td>\n",
              "      <td>Cathy Armstrong</td>\n",
              "      <td>Home Office</td>\n",
              "      <td>NaN</td>\n",
              "      <td>Herat</td>\n",
              "      <td>Hirat</td>\n",
              "      <td>Afghanistan</td>\n",
              "      <td>Southern Asia</td>\n",
              "      <td>Asia Pacific</td>\n",
              "      <td>FUR-BO-4861</td>\n",
              "      <td>Ikea Library with Doors, Mobile</td>\n",
              "      <td>Bookcases</td>\n",
              "      <td>Furniture</td>\n",
              "      <td>731.82</td>\n",
              "      <td>2</td>\n",
              "      <td>0.0</td>\n",
              "      <td>102.42</td>\n",
              "      <td>39.66</td>\n",
              "      <td>Medium</td>\n",
              "    </tr>\n",
              "    <tr>\n",
              "      <th>1</th>\n",
              "      <td>29465</td>\n",
              "      <td>ID-2015-BD116051-42248</td>\n",
              "      <td>2015-09-01</td>\n",
              "      <td>2015-09-04</td>\n",
              "      <td>Second Class</td>\n",
              "      <td>BD-116051</td>\n",
              "      <td>Brian Dahlen</td>\n",
              "      <td>Consumer</td>\n",
              "      <td>NaN</td>\n",
              "      <td>Herat</td>\n",
              "      <td>Hirat</td>\n",
              "      <td>Afghanistan</td>\n",
              "      <td>Southern Asia</td>\n",
              "      <td>Asia Pacific</td>\n",
              "      <td>OFF-SU-2988</td>\n",
              "      <td>Acme Scissors, Easy Grip</td>\n",
              "      <td>Supplies</td>\n",
              "      <td>Office Supplies</td>\n",
              "      <td>243.54</td>\n",
              "      <td>9</td>\n",
              "      <td>0.0</td>\n",
              "      <td>104.49</td>\n",
              "      <td>18.72</td>\n",
              "      <td>Medium</td>\n",
              "    </tr>\n",
              "    <tr>\n",
              "      <th>2</th>\n",
              "      <td>24598</td>\n",
              "      <td>IN-2017-CA120551-42816</td>\n",
              "      <td>2017-03-22</td>\n",
              "      <td>2017-03-29</td>\n",
              "      <td>Standard Class</td>\n",
              "      <td>CA-120551</td>\n",
              "      <td>Cathy Armstrong</td>\n",
              "      <td>Home Office</td>\n",
              "      <td>NaN</td>\n",
              "      <td>Herat</td>\n",
              "      <td>Hirat</td>\n",
              "      <td>Afghanistan</td>\n",
              "      <td>Southern Asia</td>\n",
              "      <td>Asia Pacific</td>\n",
              "      <td>TEC-MA-4211</td>\n",
              "      <td>Epson Receipt Printer, White</td>\n",
              "      <td>Machines</td>\n",
              "      <td>Technology</td>\n",
              "      <td>346.32</td>\n",
              "      <td>3</td>\n",
              "      <td>0.0</td>\n",
              "      <td>13.77</td>\n",
              "      <td>14.10</td>\n",
              "      <td>Medium</td>\n",
              "    </tr>\n",
              "    <tr>\n",
              "      <th>3</th>\n",
              "      <td>24597</td>\n",
              "      <td>IN-2017-CA120551-42816</td>\n",
              "      <td>2017-03-22</td>\n",
              "      <td>2017-03-29</td>\n",
              "      <td>Standard Class</td>\n",
              "      <td>CA-120551</td>\n",
              "      <td>Cathy Armstrong</td>\n",
              "      <td>Home Office</td>\n",
              "      <td>NaN</td>\n",
              "      <td>Herat</td>\n",
              "      <td>Hirat</td>\n",
              "      <td>Afghanistan</td>\n",
              "      <td>Southern Asia</td>\n",
              "      <td>Asia Pacific</td>\n",
              "      <td>FUR-FU-5726</td>\n",
              "      <td>Rubbermaid Door Stop, Erganomic</td>\n",
              "      <td>Furnishings</td>\n",
              "      <td>Furniture</td>\n",
              "      <td>169.68</td>\n",
              "      <td>4</td>\n",
              "      <td>0.0</td>\n",
              "      <td>79.68</td>\n",
              "      <td>11.01</td>\n",
              "      <td>Medium</td>\n",
              "    </tr>\n",
              "    <tr>\n",
              "      <th>4</th>\n",
              "      <td>29464</td>\n",
              "      <td>ID-2015-BD116051-42248</td>\n",
              "      <td>2015-09-01</td>\n",
              "      <td>2015-09-04</td>\n",
              "      <td>Second Class</td>\n",
              "      <td>BD-116051</td>\n",
              "      <td>Brian Dahlen</td>\n",
              "      <td>Consumer</td>\n",
              "      <td>NaN</td>\n",
              "      <td>Herat</td>\n",
              "      <td>Hirat</td>\n",
              "      <td>Afghanistan</td>\n",
              "      <td>Southern Asia</td>\n",
              "      <td>Asia Pacific</td>\n",
              "      <td>OFF-EN-3664</td>\n",
              "      <td>Cameo Interoffice Envelope, with clear poly wi...</td>\n",
              "      <td>Envelopes</td>\n",
              "      <td>Office Supplies</td>\n",
              "      <td>203.88</td>\n",
              "      <td>4</td>\n",
              "      <td>0.0</td>\n",
              "      <td>24.36</td>\n",
              "      <td>5.72</td>\n",
              "      <td>Medium</td>\n",
              "    </tr>\n",
              "  </tbody>\n",
              "</table>\n",
              "</div>"
            ],
            "text/plain": [
              "   Row ID                Order ID  ... Shipping Cost Order Priority\n",
              "0   24599  IN-2017-CA120551-42816  ...         39.66         Medium\n",
              "1   29465  ID-2015-BD116051-42248  ...         18.72         Medium\n",
              "2   24598  IN-2017-CA120551-42816  ...         14.10         Medium\n",
              "3   24597  IN-2017-CA120551-42816  ...         11.01         Medium\n",
              "4   29464  ID-2015-BD116051-42248  ...          5.72         Medium\n",
              "\n",
              "[5 rows x 24 columns]"
            ]
          },
          "metadata": {
            "tags": []
          },
          "execution_count": 79
        }
      ]
    },
    {
      "cell_type": "code",
      "metadata": {
        "id": "z_Dx8IKnziN6",
        "colab_type": "code",
        "colab": {}
      },
      "source": [
        "df_copy=df.copy()"
      ],
      "execution_count": 0,
      "outputs": []
    },
    {
      "cell_type": "code",
      "metadata": {
        "id": "plFXFiIsjOEh",
        "colab_type": "code",
        "colab": {}
      },
      "source": [
        "import seaborn as sns"
      ],
      "execution_count": 0,
      "outputs": []
    },
    {
      "cell_type": "code",
      "metadata": {
        "id": "YUjKMMWyjOEm",
        "colab_type": "code",
        "outputId": "edf73aad-53fd-4856-f7e0-130a31ddf6aa",
        "colab": {
          "base_uri": "https://localhost:8080/",
          "height": 386
        }
      },
      "source": [
        "sns.catplot(\"Ship Mode\",\"Sales\",data=df)"
      ],
      "execution_count": 0,
      "outputs": [
        {
          "output_type": "execute_result",
          "data": {
            "text/plain": [
              "<seaborn.axisgrid.FacetGrid at 0x7f0d732ddd30>"
            ]
          },
          "metadata": {
            "tags": []
          },
          "execution_count": 83
        },
        {
          "output_type": "display_data",
          "data": {
            "image/png": "[encoded data removed]",
            "text/plain": [
              "<Figure size 360x360 with 1 Axes>"
            ]
          },
          "metadata": {
            "tags": [],
            "needs_background": "light"
          }
        }
      ]
    },
    {
      "cell_type": "code",
      "metadata": {
        "id": "iZ-Zh4NpjOEr",
        "colab_type": "code",
        "outputId": "694a39c6-35da-4cc6-e3c2-5376c515b652",
        "colab": {
          "base_uri": "https://localhost:8080/",
          "height": 386
        }
      },
      "source": [
        "sns.catplot(\"Ship Mode\",\"Sales\",data=df,jitter=False)"
      ],
      "execution_count": 0,
      "outputs": [
        {
          "output_type": "execute_result",
          "data": {
            "text/plain": [
              "<seaborn.axisgrid.FacetGrid at 0x7f0d72c97828>"
            ]
          },
          "metadata": {
            "tags": []
          },
          "execution_count": 84
        },
        {
          "output_type": "display_data",
          "data": {
            "image/png": "[encoded data removed]",
            "text/plain": [
              "<Figure size 360x360 with 1 Axes>"
            ]
          },
          "metadata": {
            "tags": [],
            "needs_background": "light"
          }
        }
      ]
    },
    {
      "cell_type": "code",
      "metadata": {
        "id": "1ABf55Wrj1y6",
        "colab_type": "code",
        "outputId": "949cfa85-5f79-4d98-f5fc-750e01c6c962",
        "colab": {
          "base_uri": "https://localhost:8080/",
          "height": 386
        }
      },
      "source": [
        "sns.catplot(\"Country\",\"Sales\",data=df)"
      ],
      "execution_count": 0,
      "outputs": [
        {
          "output_type": "execute_result",
          "data": {
            "text/plain": [
              "<seaborn.axisgrid.FacetGrid at 0x7f0d84790438>"
            ]
          },
          "metadata": {
            "tags": []
          },
          "execution_count": 85
        },
        {
          "output_type": "display_data",
          "data": {
            "image/png": "[encoded data removed]",
            "text/plain": [
              "<Figure size 360x360 with 1 Axes>"
            ]
          },
          "metadata": {
            "tags": [],
            "needs_background": "light"
          }
        }
      ]
    },
    {
      "cell_type": "code",
      "metadata": {
        "id": "XvC2ifWilSZM",
        "colab_type": "code",
        "colab": {}
      },
      "source": [
        "x=df[\"Sales\"]"
      ],
      "execution_count": 0,
      "outputs": []
    },
    {
      "cell_type": "code",
      "metadata": {
        "id": "oER1Ll59mdXS",
        "colab_type": "code",
        "outputId": "91d68972-64b2-49ee-8ee3-7c29fa11a516",
        "colab": {
          "base_uri": "https://localhost:8080/",
          "height": 230
        }
      },
      "source": [
        "print(x)"
      ],
      "execution_count": 0,
      "outputs": [
        {
          "output_type": "stream",
          "text": [
            "0        731.820\n",
            "1        243.540\n",
            "2        346.320\n",
            "3        169.680\n",
            "4        203.880\n",
            "          ...   \n",
            "51285      9.612\n",
            "51286      4.104\n",
            "51287      7.749\n",
            "51288    104.364\n",
            "51289      3.465\n",
            "Name: Sales, Length: 51290, dtype: float64\n"
          ],
          "name": "stdout"
        }
      ]
    },
    {
      "cell_type": "code",
      "metadata": {
        "id": "6qf2qbsXmguO",
        "colab_type": "code",
        "outputId": "e6827e6e-7ac4-4860-a887-4bb75c10934f",
        "colab": {
          "base_uri": "https://localhost:8080/",
          "height": 34
        }
      },
      "source": [
        "print(type(x))"
      ],
      "execution_count": 0,
      "outputs": [
        {
          "output_type": "stream",
          "text": [
            "<class 'pandas.core.series.Series'>\n"
          ],
          "name": "stdout"
        }
      ]
    },
    {
      "cell_type": "code",
      "metadata": {
        "id": "HyF8195JnWpX",
        "colab_type": "code",
        "colab": {}
      },
      "source": [
        "x=x.sort_values(ascending=False)"
      ],
      "execution_count": 0,
      "outputs": []
    },
    {
      "cell_type": "code",
      "metadata": {
        "id": "mK5dx4SanZxE",
        "colab_type": "code",
        "outputId": "ef3977ed-8017-429e-f0de-75d49e800a72",
        "colab": {
          "base_uri": "https://localhost:8080/",
          "height": 123
        }
      },
      "source": [
        "print(x[:5])"
      ],
      "execution_count": 0,
      "outputs": [
        {
          "output_type": "stream",
          "text": [
            "43417    22638.480\n",
            "44434    17499.950\n",
            "50323    13999.960\n",
            "46710    11199.968\n",
            "43198    10499.970\n",
            "Name: Sales, dtype: float64\n"
          ],
          "name": "stdout"
        }
      ]
    },
    {
      "cell_type": "code",
      "metadata": {
        "id": "rwZmXYTmr2s3",
        "colab_type": "code",
        "outputId": "0bd6fe19-83d8-4d71-ca54-7f63c4a5e95a",
        "colab": {
          "base_uri": "https://localhost:8080/",
          "height": 34
        }
      },
      "source": [
        "print(max(x))"
      ],
      "execution_count": 0,
      "outputs": [
        {
          "output_type": "stream",
          "text": [
            "22638.48\n"
          ],
          "name": "stdout"
        }
      ]
    },
    {
      "cell_type": "code",
      "metadata": {
        "id": "XxGHjw6CmNn0",
        "colab_type": "code",
        "outputId": "90735e90-14f9-4871-bec5-d4e88b91f2cf",
        "colab": {
          "base_uri": "https://localhost:8080/",
          "height": 386
        }
      },
      "source": [
        "sns.catplot(x=\"Country\",y=\"Sales\",data=df.query(\"Sales >= 10499.970\"))"
      ],
      "execution_count": 0,
      "outputs": [
        {
          "output_type": "execute_result",
          "data": {
            "text/plain": [
              "<seaborn.axisgrid.FacetGrid at 0x7f0d72c6e320>"
            ]
          },
          "metadata": {
            "tags": []
          },
          "execution_count": 93
        },
        {
          "output_type": "display_data",
          "data": {
            "image/png": "[encoded data removed]",
            "text/plain": [
              "<Figure size 360x360 with 1 Axes>"
            ]
          },
          "metadata": {
            "tags": [],
            "needs_background": "light"
          }
        }
      ]
    },
    {
      "cell_type": "code",
      "metadata": {
        "id": "6-ZNT-R9qaTC",
        "colab_type": "code",
        "colab": {}
      },
      "source": [
        "df.set_index(\"Sales\",inplace=True)"
      ],
      "execution_count": 0,
      "outputs": []
    },
    {
      "cell_type": "code",
      "metadata": {
        "id": "iVv1JxQssANS",
        "colab_type": "code",
        "outputId": "4a5c5515-2021-4663-d999-3fb8f4cd7d1e",
        "colab": {
          "base_uri": "https://localhost:8080/",
          "height": 443
        }
      },
      "source": [
        "df.loc[22638.48]"
      ],
      "execution_count": 0,
      "outputs": [
        {
          "output_type": "execute_result",
          "data": {
            "text/plain": [
              "Row ID                                                        33994\n",
              "Order ID                                   CA-2014-SM20320140-41715\n",
              "Order Date                                      2014-03-17 00:00:00\n",
              "Ship Date                                       2014-03-22 00:00:00\n",
              "Ship Mode                                            Standard Class\n",
              "Customer ID                                            SM-203201408\n",
              "Customer Name                                           Sean Miller\n",
              "Segment                                                 Home Office\n",
              "Postal Code                                                   32216\n",
              "City                                                   Jacksonville\n",
              "State                                                       Florida\n",
              "Country                                               United States\n",
              "Region                                                  Southern US\n",
              "Market                                                         USCA\n",
              "Product ID                                              TEC-MA-3819\n",
              "Product Name      Cisco TelePresence System EX90 Videoconferenci...\n",
              "Sub-Category                                               Machines\n",
              "Category                                                 Technology\n",
              "Quantity                                                          6\n",
              "Discount                                                        0.5\n",
              "Profit                                                     -1811.08\n",
              "Shipping Cost                                               24.2865\n",
              "Order Priority                                               Medium\n",
              "Name: 22638.48, dtype: object"
            ]
          },
          "metadata": {
            "tags": []
          },
          "execution_count": 95
        }
      ]
    },
    {
      "cell_type": "code",
      "metadata": {
        "id": "5-0J2TIisGHs",
        "colab_type": "code",
        "outputId": "c4e00f55-6211-4bb6-b0aa-ce1e706c63ec",
        "colab": {
          "base_uri": "https://localhost:8080/",
          "height": 443
        }
      },
      "source": [
        "df.loc[17499.950]"
      ],
      "execution_count": 0,
      "outputs": [
        {
          "output_type": "execute_result",
          "data": {
            "text/plain": [
              "Row ID                                            38123\n",
              "Order ID                       CA-2016-TC20980140-42646\n",
              "Order Date                          2016-10-03 00:00:00\n",
              "Ship Date                           2016-10-10 00:00:00\n",
              "Ship Mode                                Standard Class\n",
              "Customer ID                                TC-209801402\n",
              "Customer Name                              Tamara Chand\n",
              "Segment                                       Corporate\n",
              "Postal Code                                       47905\n",
              "City                                          Lafayette\n",
              "State                                           Indiana\n",
              "Country                                   United States\n",
              "Region                                       Central US\n",
              "Market                                             USCA\n",
              "Product ID                                  TEC-CO-3691\n",
              "Product Name      Canon imageCLASS 2200 Advanced Copier\n",
              "Sub-Category                                    Copiers\n",
              "Category                                     Technology\n",
              "Quantity                                              5\n",
              "Discount                                              0\n",
              "Profit                                          8399.98\n",
              "Shipping Cost                                    349.07\n",
              "Order Priority                                   Medium\n",
              "Name: 17499.95, dtype: object"
            ]
          },
          "metadata": {
            "tags": []
          },
          "execution_count": 96
        }
      ]
    },
    {
      "cell_type": "code",
      "metadata": {
        "id": "z1n_55OpsXEl",
        "colab_type": "code",
        "outputId": "0aa78223-d77b-4e8f-c96d-e1f66d0911d3",
        "colab": {
          "base_uri": "https://localhost:8080/",
          "height": 443
        }
      },
      "source": [
        "df.loc[13999.960]"
      ],
      "execution_count": 0,
      "outputs": [
        {
          "output_type": "execute_result",
          "data": {
            "text/plain": [
              "Row ID                                            39450\n",
              "Order ID                       CA-2017-RB19360140-42818\n",
              "Order Date                          2017-03-24 00:00:00\n",
              "Ship Date                           2017-03-26 00:00:00\n",
              "Ship Mode                                   First Class\n",
              "Customer ID                                RB-193601404\n",
              "Customer Name                              Raymond Buch\n",
              "Segment                                        Consumer\n",
              "Postal Code                                       98115\n",
              "City                                            Seattle\n",
              "State                                        Washington\n",
              "Country                                   United States\n",
              "Region                                       Western US\n",
              "Market                                             USCA\n",
              "Product ID                                  TEC-CO-3691\n",
              "Product Name      Canon imageCLASS 2200 Advanced Copier\n",
              "Sub-Category                                    Copiers\n",
              "Category                                     Technology\n",
              "Quantity                                              4\n",
              "Discount                                              0\n",
              "Profit                                          6719.98\n",
              "Shipping Cost                                   20.0005\n",
              "Order Priority                                   Medium\n",
              "Name: 13999.96, dtype: object"
            ]
          },
          "metadata": {
            "tags": []
          },
          "execution_count": 97
        }
      ]
    },
    {
      "cell_type": "code",
      "metadata": {
        "id": "x5E_Ebh-se90",
        "colab_type": "code",
        "outputId": "d718408e-a2c4-458b-b28a-4bd1cfa71984",
        "colab": {
          "base_uri": "https://localhost:8080/",
          "height": 443
        }
      },
      "source": [
        "df.loc[11199.968]"
      ],
      "execution_count": 0,
      "outputs": [
        {
          "output_type": "execute_result",
          "data": {
            "text/plain": [
              "Row ID                                            33920\n",
              "Order ID                       CA-2017-TA21385140-43031\n",
              "Order Date                          2017-10-23 00:00:00\n",
              "Ship Date                           2017-10-25 00:00:00\n",
              "Ship Mode                                   First Class\n",
              "Customer ID                                TA-213851406\n",
              "Customer Name                              Tom Ashbrook\n",
              "Segment                                     Home Office\n",
              "Postal Code                                       10024\n",
              "City                                      New York City\n",
              "State                                          New York\n",
              "Country                                   United States\n",
              "Region                                       Eastern US\n",
              "Market                                             USCA\n",
              "Product ID                                  TEC-CO-3691\n",
              "Product Name      Canon imageCLASS 2200 Advanced Copier\n",
              "Sub-Category                                    Copiers\n",
              "Category                                     Technology\n",
              "Quantity                                              4\n",
              "Discount                                            0.2\n",
              "Profit                                          3919.99\n",
              "Shipping Cost                                     45.98\n",
              "Order Priority                                     High\n",
              "Name: 11199.968, dtype: object"
            ]
          },
          "metadata": {
            "tags": []
          },
          "execution_count": 98
        }
      ]
    },
    {
      "cell_type": "code",
      "metadata": {
        "id": "UFJkWYAusi4j",
        "colab_type": "code",
        "outputId": "4c0bcd21-5952-4afd-e972-d3ec8ec3291f",
        "colab": {
          "base_uri": "https://localhost:8080/",
          "height": 443
        }
      },
      "source": [
        "df.loc[10499.970]"
      ],
      "execution_count": 0,
      "outputs": [
        {
          "output_type": "execute_result",
          "data": {
            "text/plain": [
              "Row ID                                            35487\n",
              "Order ID                       CA-2017-HL15040140-43057\n",
              "Order Date                          2017-11-18 00:00:00\n",
              "Ship Date                           2017-11-23 00:00:00\n",
              "Ship Mode                                Standard Class\n",
              "Customer ID                                HL-150401406\n",
              "Customer Name                              Hunter Lopez\n",
              "Segment                                        Consumer\n",
              "Postal Code                                       19711\n",
              "City                                             Newark\n",
              "State                                          Delaware\n",
              "Country                                   United States\n",
              "Region                                       Eastern US\n",
              "Market                                             USCA\n",
              "Product ID                                  TEC-CO-3691\n",
              "Product Name      Canon imageCLASS 2200 Advanced Copier\n",
              "Sub-Category                                    Copiers\n",
              "Category                                     Technology\n",
              "Quantity                                              3\n",
              "Discount                                              0\n",
              "Profit                                          5039.99\n",
              "Shipping Cost                                    363.19\n",
              "Order Priority                                   Medium\n",
              "Name: 10499.97, dtype: object"
            ]
          },
          "metadata": {
            "tags": []
          },
          "execution_count": 99
        }
      ]
    },
    {
      "cell_type": "code",
      "metadata": {
        "id": "0ZWOHuPnsolk",
        "colab_type": "code",
        "outputId": "f5addc88-0b69-4555-f10f-817f5a928484",
        "colab": {
          "base_uri": "https://localhost:8080/",
          "height": 386
        }
      },
      "source": [
        "sns.catplot(\"Ship Mode\",\"Sales\",data=df_copy.query(\"Sales >= 10499.970\"))"
      ],
      "execution_count": 0,
      "outputs": [
        {
          "output_type": "execute_result",
          "data": {
            "text/plain": [
              "<seaborn.axisgrid.FacetGrid at 0x7f0d72572278>"
            ]
          },
          "metadata": {
            "tags": []
          },
          "execution_count": 106
        },
        {
          "output_type": "display_data",
          "data": {
            "image/png": "[encoded data removed]",
            "text/plain": [
              "<Figure size 360x360 with 1 Axes>"
            ]
          },
          "metadata": {
            "tags": []
          }
        }
      ]
    },
    {
      "cell_type": "code",
      "metadata": {
        "id": "qBjm-Pljszzk",
        "colab_type": "code",
        "outputId": "c2012d26-d3d5-4ea9-f494-0365280c8a24",
        "colab": {
          "base_uri": "https://localhost:8080/",
          "height": 386
        }
      },
      "source": [
        "sns.catplot(\"Segment\",\"Sales\",data=df_copy.query(\"Sales >= 10499.970\"))"
      ],
      "execution_count": 0,
      "outputs": [
        {
          "output_type": "execute_result",
          "data": {
            "text/plain": [
              "<seaborn.axisgrid.FacetGrid at 0x7f0d72595f60>"
            ]
          },
          "metadata": {
            "tags": []
          },
          "execution_count": 107
        },
        {
          "output_type": "display_data",
          "data": {
            "image/png": "[encoded data removed]",
            "text/plain": [
              "<Figure size 360x360 with 1 Axes>"
            ]
          },
          "metadata": {
            "tags": []
          }
        }
      ]
    },
    {
      "cell_type": "code",
      "metadata": {
        "id": "l4enrY3p0_vY",
        "colab_type": "code",
        "outputId": "6a467436-ca4c-4c28-9e98-eb8f4caad70f",
        "colab": {
          "base_uri": "https://localhost:8080/",
          "height": 386
        }
      },
      "source": [
        "sns.catplot(\"City\",\"Sales\",data=df_copy.query(\"Sales >= 10499.970\"))"
      ],
      "execution_count": 0,
      "outputs": [
        {
          "output_type": "execute_result",
          "data": {
            "text/plain": [
              "<seaborn.axisgrid.FacetGrid at 0x7f0d726ce518>"
            ]
          },
          "metadata": {
            "tags": []
          },
          "execution_count": 108
        },
        {
          "output_type": "display_data",
          "data": {
            "image/png": "[encoded data removed]",
            "text/plain": [
              "<Figure size 360x360 with 1 Axes>"
            ]
          },
          "metadata": {
            "tags": []
          }
        }
      ]
    },
    {
      "cell_type": "code",
      "metadata": {
        "id": "C_i9ukkJ1aSk",
        "colab_type": "code",
        "colab": {}
      },
      "source": [
        "sns.set_style(\"ticks\")"
      ],
      "execution_count": 0,
      "outputs": []
    },
    {
      "cell_type": "code",
      "metadata": {
        "id": "lUOFzZo61UCE",
        "colab_type": "code",
        "outputId": "c2788173-7701-45a7-cb58-682241c4c570",
        "colab": {
          "base_uri": "https://localhost:8080/",
          "height": 386
        }
      },
      "source": [
        "sns.catplot(\"State\",\"Sales\",data=df_copy.query(\"Sales >= 10499.970\"))"
      ],
      "execution_count": 0,
      "outputs": [
        {
          "output_type": "execute_result",
          "data": {
            "text/plain": [
              "<seaborn.axisgrid.FacetGrid at 0x7f0d725000b8>"
            ]
          },
          "metadata": {
            "tags": []
          },
          "execution_count": 104
        },
        {
          "output_type": "display_data",
          "data": {
            "image/png": "[encoded data removed]",
            "text/plain": [
              "<Figure size 360x360 with 1 Axes>"
            ]
          },
          "metadata": {
            "tags": []
          }
        }
      ]
    },
    {
      "cell_type": "code",
      "metadata": {
        "id": "v5-3Uskj1eqP",
        "colab_type": "code",
        "outputId": "4b63d9b5-257a-4bcc-9bb0-ba67a4cb7e89",
        "colab": {
          "base_uri": "https://localhost:8080/",
          "height": 386
        }
      },
      "source": [
        "sns.catplot(\"Region\",\"Sales\",data=df_copy.query(\"Sales >= 10499.970\"))"
      ],
      "execution_count": 0,
      "outputs": [
        {
          "output_type": "execute_result",
          "data": {
            "text/plain": [
              "<seaborn.axisgrid.FacetGrid at 0x7f0d7256deb8>"
            ]
          },
          "metadata": {
            "tags": []
          },
          "execution_count": 105
        },
        {
          "output_type": "display_data",
          "data": {
            "image/png": "[encoded data removed]",
            "text/plain": [
              "<Figure size 360x360 with 1 Axes>"
            ]
          },
          "metadata": {
            "tags": []
          }
        }
      ]
    },
    {
      "cell_type": "code",
      "metadata": {
        "id": "tUI-I9LY1owS",
        "colab_type": "code",
        "outputId": "c1ad16b0-3813-4d16-d4b5-7e6fecad307e",
        "colab": {
          "base_uri": "https://localhost:8080/",
          "height": 386
        }
      },
      "source": [
        "sns.catplot(\"Market\",\"Sales\",data=df_copy.query(\"Sales >= 10499.970\"))"
      ],
      "execution_count": 0,
      "outputs": [
        {
          "output_type": "execute_result",
          "data": {
            "text/plain": [
              "<seaborn.axisgrid.FacetGrid at 0x7f0d7265bda0>"
            ]
          },
          "metadata": {
            "tags": []
          },
          "execution_count": 109
        },
        {
          "output_type": "display_data",
          "data": {
            "image/png": "[encoded data removed]",
            "text/plain": [
              "<Figure size 360x360 with 1 Axes>"
            ]
          },
          "metadata": {
            "tags": []
          }
        }
      ]
    },
    {
      "cell_type": "code",
      "metadata": {
        "id": "L7iSw8mt2lS-",
        "colab_type": "code",
        "outputId": "1ec21b0e-1286-4c98-f1ff-efa5d8063130",
        "colab": {
          "base_uri": "https://localhost:8080/",
          "height": 386
        }
      },
      "source": [
        "sns.catplot(\"Order Priority\",\"Sales\",data=df_copy.query(\"Sales >= 10499.970\"))"
      ],
      "execution_count": 0,
      "outputs": [
        {
          "output_type": "execute_result",
          "data": {
            "text/plain": [
              "<seaborn.axisgrid.FacetGrid at 0x7f0d725c2ba8>"
            ]
          },
          "metadata": {
            "tags": []
          },
          "execution_count": 113
        },
        {
          "output_type": "display_data",
          "data": {
            "image/png": "[encoded data removed]",
            "text/plain": [
              "<Figure size 360x360 with 1 Axes>"
            ]
          },
          "metadata": {
            "tags": []
          }
        }
      ]
    },
    {
      "cell_type": "code",
      "metadata": {
        "id": "obAPdXE52vuF",
        "colab_type": "code",
        "outputId": "6e0c8c38-2a3f-458a-aa88-6d33cfc99ccc",
        "colab": {
          "base_uri": "https://localhost:8080/",
          "height": 386
        }
      },
      "source": [
        "sns.catplot(\"Shipping Cost\",\"Sales\",data=df_copy.query(\"Sales >= 10499.970\"))"
      ],
      "execution_count": 0,
      "outputs": [
        {
          "output_type": "execute_result",
          "data": {
            "text/plain": [
              "<seaborn.axisgrid.FacetGrid at 0x7f0d724836d8>"
            ]
          },
          "metadata": {
            "tags": []
          },
          "execution_count": 114
        },
        {
          "output_type": "display_data",
          "data": {
            "image/png": "[encoded data removed]",
            "text/plain": [
              "<Figure size 360x360 with 1 Axes>"
            ]
          },
          "metadata": {
            "tags": []
          }
        }
      ]
    },
    {
      "cell_type": "code",
      "metadata": {
        "id": "O2vjgyx-243I",
        "colab_type": "code",
        "outputId": "3bdab321-ae96-456c-c7cf-8bd59ee256b4",
        "colab": {
          "base_uri": "https://localhost:8080/",
          "height": 386
        }
      },
      "source": [
        "sns.catplot(\"Profit\",\"Sales\",data=df_copy.query(\"Sales >= 10499.970\"))"
      ],
      "execution_count": 0,
      "outputs": [
        {
          "output_type": "execute_result",
          "data": {
            "text/plain": [
              "<seaborn.axisgrid.FacetGrid at 0x7f0d723e29e8>"
            ]
          },
          "metadata": {
            "tags": []
          },
          "execution_count": 115
        },
        {
          "output_type": "display_data",
          "data": {
            "image/png": "[encoded data removed]",
            "text/plain": [
              "<Figure size 360x360 with 1 Axes>"
            ]
          },
          "metadata": {
            "tags": []
          }
        }
      ]
    },
    {
      "cell_type": "code",
      "metadata": {
        "id": "aZZwt-lI28Dd",
        "colab_type": "code",
        "colab": {}
      },
      "source": [
        ""
      ],
      "execution_count": 0,
      "outputs": []
    }
  ]
}